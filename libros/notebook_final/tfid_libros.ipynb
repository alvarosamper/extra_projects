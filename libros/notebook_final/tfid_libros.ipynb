{
  "nbformat": 4,
  "nbformat_minor": 0,
  "metadata": {
    "colab": {
      "provenance": [],
      "collapsed_sections": [
        "4fHsqM8dg-40"
      ]
    },
    "kernelspec": {
      "name": "python3",
      "display_name": "Python 3"
    },
    "language_info": {
      "name": "python"
    }
  },
  "cells": [
    {
      "cell_type": "markdown",
      "source": [
        "## OBJETIVOS:\n",
        "-Se nos planteó el problema de una web que quería realizar una clasificación rápida de libros mediante un modelo. \n",
        "Por lo que, a modo de presentación de un primer borrador nos marcamos como objetivo entregar una solución rápida\n",
        "que mostrase el funcionamiento para futuros resultados.\n",
        "\n",
        "-Generación de los datos: para poder hacer el modelo necesitamos generar unos datos, por lo que accedimos a una web\n",
        "y obtuvimos manualmente las urls de los libros y nos creamos un fichero excel además con el índice de nuestro \n",
        "problema multietiqueta. Una vez hecho esto, creamos un cuaderno(generar_csv.ipynb) para generar nuestro csv.\n",
        "\n",
        "-Con los datos obtenidos, realizamos un proceso de NLP, con su limpieza y todas sus características. Para mayor\n",
        "entendimiento del proceso realizado seguir leyendo el siguiente resumen o echar un vistazo al artículo que se \n",
        "encuentra también en este repositorio.\n",
        "\n",
        "En este caso tenemos ocho géneros: humor, amor, ciencia ficción, aventuras, histórico,\n",
        "psicológico, guerra y terror.\n",
        "\n",
        "Ahora pasamos a explicar la estructura que hemos seguido en el proyecto.\n",
        "\n",
        "## Estructura:\n",
        "En primer lugar, accedimos a la web proporcionada y creamos un excel  con las urls de\n",
        "los libros y las categorías a la que pertenecían.\n",
        "Una vez hecho esto creamos un cuaderno el cual accedía las urls y descargaba el texto\n",
        "creando un nuevo dataset.(generar_csv.ipynb)\n",
        "Luego creamos ya nuestro cuaderno para el trabajo en cual ya preprocesamos los datos \n",
        "y los limpiamos para dejarlos preparados. Después probamos diferentes estrategias de \n",
        "resolución aplicando TFIDF(la mejor opción), word2vectors( el cual nos dió problemas y \n",
        "tuvimos que descartar ya que los libros contenían demasiadas palabras) y redes \n",
        "neuronales(las cuales apartamos pues no conseguíamos crear una estructura que encontrase\n",
        "un modelo más o menos fiable para su optimización).\n",
        "\n",
        "Al final optamos por la estrategia de optimizar\n",
        "TFIDF primero, luego aplicar PCA y finalmente optimizar el algoritmo Linear SVC.\n",
        "\n",
        "\n",
        "\n",
        "## ENFOQUE FUTURO:\n",
        "- Respecto a este proyecto, decir que no está completo y se va a seguir trabajando\n",
        "en él pero de manera privada por confidencialidad.\n",
        "- Para mejorar este primer borrador debemos hacer un dataset muchísimo más\n",
        "amplío pues es súper clave en estos casos de multietiquetas. Y una vez hecho esto, optimizar\n",
        "el proyecto con diferentes estrategias. Aquí solo usé una pues se trata de un borrador inicial\n",
        "y quería que se viese el progreso del trabajo."
      ],
      "metadata": {
        "id": "P3EVvyirMSpA"
      }
    },
    {
      "cell_type": "code",
      "source": [
        "!pip install git+https://github.com/laxmimerit/preprocess_kgptalkie.git"
      ],
      "metadata": {
        "colab": {
          "base_uri": "https://localhost:8080/"
        },
        "id": "iyDWpvo7H38j",
        "outputId": "589512b4-2eba-4460-92fc-22c3b657020d"
      },
      "execution_count": null,
      "outputs": [
        {
          "output_type": "stream",
          "name": "stdout",
          "text": [
            "Looking in indexes: https://pypi.org/simple, https://us-python.pkg.dev/colab-wheels/public/simple/\n",
            "Collecting git+https://github.com/laxmimerit/preprocess_kgptalkie.git\n",
            "  Cloning https://github.com/laxmimerit/preprocess_kgptalkie.git to /tmp/pip-req-build-dzifqja_\n",
            "  Running command git clone -q https://github.com/laxmimerit/preprocess_kgptalkie.git /tmp/pip-req-build-dzifqja_\n",
            "Building wheels for collected packages: preprocess-kgptalkie\n",
            "  Building wheel for preprocess-kgptalkie (setup.py) ... \u001b[?25l\u001b[?25hdone\n",
            "  Created wheel for preprocess-kgptalkie: filename=preprocess_kgptalkie-0.1.3-py3-none-any.whl size=11756 sha256=3bb61fd9b1a4e1a7eaf70e1454a47faa17c92ff8a8efdbe2bef8aa0e67bcceba\n",
            "  Stored in directory: /tmp/pip-ephem-wheel-cache-i7bxloij/wheels/0d/b3/29/bfe3deffda68980088d17b81331be6667e837ffb4a071bae82\n",
            "Successfully built preprocess-kgptalkie\n",
            "Installing collected packages: preprocess-kgptalkie\n",
            "Successfully installed preprocess-kgptalkie-0.1.3\n"
          ]
        }
      ]
    },
    {
      "cell_type": "code",
      "source": [
        "!python -m spacy download en_core_web_lg"
      ],
      "metadata": {
        "colab": {
          "base_uri": "https://localhost:8080/"
        },
        "id": "8TYuM0stny3x",
        "outputId": "83d26a85-90c9-423c-dcef-f329bd3af199"
      },
      "execution_count": null,
      "outputs": [
        {
          "output_type": "stream",
          "name": "stdout",
          "text": [
            "2022-10-28 06:09:05.423428: E tensorflow/stream_executor/cuda/cuda_driver.cc:271] failed call to cuInit: CUDA_ERROR_NO_DEVICE: no CUDA-capable device is detected\n",
            "Looking in indexes: https://pypi.org/simple, https://us-python.pkg.dev/colab-wheels/public/simple/\n",
            "Collecting en-core-web-lg==3.4.1\n",
            "  Downloading https://github.com/explosion/spacy-models/releases/download/en_core_web_lg-3.4.1/en_core_web_lg-3.4.1-py3-none-any.whl (587.7 MB)\n",
            "\u001b[K     |████████████████████████████████| 587.7 MB 15 kB/s \n",
            "\u001b[?25hRequirement already satisfied: spacy<3.5.0,>=3.4.0 in /usr/local/lib/python3.7/dist-packages (from en-core-web-lg==3.4.1) (3.4.2)\n",
            "Requirement already satisfied: pathy>=0.3.5 in /usr/local/lib/python3.7/dist-packages (from spacy<3.5.0,>=3.4.0->en-core-web-lg==3.4.1) (0.6.2)\n",
            "Requirement already satisfied: langcodes<4.0.0,>=3.2.0 in /usr/local/lib/python3.7/dist-packages (from spacy<3.5.0,>=3.4.0->en-core-web-lg==3.4.1) (3.3.0)\n",
            "Requirement already satisfied: cymem<2.1.0,>=2.0.2 in /usr/local/lib/python3.7/dist-packages (from spacy<3.5.0,>=3.4.0->en-core-web-lg==3.4.1) (2.0.7)\n",
            "Requirement already satisfied: srsly<3.0.0,>=2.4.3 in /usr/local/lib/python3.7/dist-packages (from spacy<3.5.0,>=3.4.0->en-core-web-lg==3.4.1) (2.4.5)\n",
            "Requirement already satisfied: setuptools in /usr/local/lib/python3.7/dist-packages (from spacy<3.5.0,>=3.4.0->en-core-web-lg==3.4.1) (57.4.0)\n",
            "Requirement already satisfied: tqdm<5.0.0,>=4.38.0 in /usr/local/lib/python3.7/dist-packages (from spacy<3.5.0,>=3.4.0->en-core-web-lg==3.4.1) (4.64.1)\n",
            "Requirement already satisfied: typing-extensions<4.2.0,>=3.7.4 in /usr/local/lib/python3.7/dist-packages (from spacy<3.5.0,>=3.4.0->en-core-web-lg==3.4.1) (4.1.1)\n",
            "Requirement already satisfied: wasabi<1.1.0,>=0.9.1 in /usr/local/lib/python3.7/dist-packages (from spacy<3.5.0,>=3.4.0->en-core-web-lg==3.4.1) (0.10.1)\n",
            "Requirement already satisfied: spacy-loggers<2.0.0,>=1.0.0 in /usr/local/lib/python3.7/dist-packages (from spacy<3.5.0,>=3.4.0->en-core-web-lg==3.4.1) (1.0.3)\n",
            "Requirement already satisfied: packaging>=20.0 in /usr/local/lib/python3.7/dist-packages (from spacy<3.5.0,>=3.4.0->en-core-web-lg==3.4.1) (21.3)\n",
            "Requirement already satisfied: typer<0.5.0,>=0.3.0 in /usr/local/lib/python3.7/dist-packages (from spacy<3.5.0,>=3.4.0->en-core-web-lg==3.4.1) (0.4.2)\n",
            "Requirement already satisfied: preshed<3.1.0,>=3.0.2 in /usr/local/lib/python3.7/dist-packages (from spacy<3.5.0,>=3.4.0->en-core-web-lg==3.4.1) (3.0.8)\n",
            "Requirement already satisfied: catalogue<2.1.0,>=2.0.6 in /usr/local/lib/python3.7/dist-packages (from spacy<3.5.0,>=3.4.0->en-core-web-lg==3.4.1) (2.0.8)\n",
            "Requirement already satisfied: requests<3.0.0,>=2.13.0 in /usr/local/lib/python3.7/dist-packages (from spacy<3.5.0,>=3.4.0->en-core-web-lg==3.4.1) (2.23.0)\n",
            "Requirement already satisfied: thinc<8.2.0,>=8.1.0 in /usr/local/lib/python3.7/dist-packages (from spacy<3.5.0,>=3.4.0->en-core-web-lg==3.4.1) (8.1.5)\n",
            "Requirement already satisfied: spacy-legacy<3.1.0,>=3.0.10 in /usr/local/lib/python3.7/dist-packages (from spacy<3.5.0,>=3.4.0->en-core-web-lg==3.4.1) (3.0.10)\n",
            "Requirement already satisfied: pydantic!=1.8,!=1.8.1,<1.11.0,>=1.7.4 in /usr/local/lib/python3.7/dist-packages (from spacy<3.5.0,>=3.4.0->en-core-web-lg==3.4.1) (1.10.2)\n",
            "Requirement already satisfied: murmurhash<1.1.0,>=0.28.0 in /usr/local/lib/python3.7/dist-packages (from spacy<3.5.0,>=3.4.0->en-core-web-lg==3.4.1) (1.0.9)\n",
            "Requirement already satisfied: numpy>=1.15.0 in /usr/local/lib/python3.7/dist-packages (from spacy<3.5.0,>=3.4.0->en-core-web-lg==3.4.1) (1.21.6)\n",
            "Requirement already satisfied: jinja2 in /usr/local/lib/python3.7/dist-packages (from spacy<3.5.0,>=3.4.0->en-core-web-lg==3.4.1) (2.11.3)\n",
            "Requirement already satisfied: zipp>=0.5 in /usr/local/lib/python3.7/dist-packages (from catalogue<2.1.0,>=2.0.6->spacy<3.5.0,>=3.4.0->en-core-web-lg==3.4.1) (3.9.0)\n",
            "Requirement already satisfied: pyparsing!=3.0.5,>=2.0.2 in /usr/local/lib/python3.7/dist-packages (from packaging>=20.0->spacy<3.5.0,>=3.4.0->en-core-web-lg==3.4.1) (3.0.9)\n",
            "Requirement already satisfied: smart-open<6.0.0,>=5.2.1 in /usr/local/lib/python3.7/dist-packages (from pathy>=0.3.5->spacy<3.5.0,>=3.4.0->en-core-web-lg==3.4.1) (5.2.1)\n",
            "Requirement already satisfied: chardet<4,>=3.0.2 in /usr/local/lib/python3.7/dist-packages (from requests<3.0.0,>=2.13.0->spacy<3.5.0,>=3.4.0->en-core-web-lg==3.4.1) (3.0.4)\n",
            "Requirement already satisfied: certifi>=2017.4.17 in /usr/local/lib/python3.7/dist-packages (from requests<3.0.0,>=2.13.0->spacy<3.5.0,>=3.4.0->en-core-web-lg==3.4.1) (2022.9.24)\n",
            "Requirement already satisfied: idna<3,>=2.5 in /usr/local/lib/python3.7/dist-packages (from requests<3.0.0,>=2.13.0->spacy<3.5.0,>=3.4.0->en-core-web-lg==3.4.1) (2.10)\n",
            "Requirement already satisfied: urllib3!=1.25.0,!=1.25.1,<1.26,>=1.21.1 in /usr/local/lib/python3.7/dist-packages (from requests<3.0.0,>=2.13.0->spacy<3.5.0,>=3.4.0->en-core-web-lg==3.4.1) (1.24.3)\n",
            "Requirement already satisfied: blis<0.8.0,>=0.7.8 in /usr/local/lib/python3.7/dist-packages (from thinc<8.2.0,>=8.1.0->spacy<3.5.0,>=3.4.0->en-core-web-lg==3.4.1) (0.7.9)\n",
            "Requirement already satisfied: confection<1.0.0,>=0.0.1 in /usr/local/lib/python3.7/dist-packages (from thinc<8.2.0,>=8.1.0->spacy<3.5.0,>=3.4.0->en-core-web-lg==3.4.1) (0.0.3)\n",
            "Requirement already satisfied: click<9.0.0,>=7.1.1 in /usr/local/lib/python3.7/dist-packages (from typer<0.5.0,>=0.3.0->spacy<3.5.0,>=3.4.0->en-core-web-lg==3.4.1) (7.1.2)\n",
            "Requirement already satisfied: MarkupSafe>=0.23 in /usr/local/lib/python3.7/dist-packages (from jinja2->spacy<3.5.0,>=3.4.0->en-core-web-lg==3.4.1) (2.0.1)\n",
            "Installing collected packages: en-core-web-lg\n",
            "Successfully installed en-core-web-lg-3.4.1\n",
            "\u001b[38;5;2m✔ Download and installation successful\u001b[0m\n",
            "You can now load the package via spacy.load('en_core_web_lg')\n"
          ]
        }
      ]
    },
    {
      "cell_type": "code",
      "execution_count": null,
      "metadata": {
        "id": "fKWXI1Qi8-se"
      },
      "outputs": [],
      "source": [
        "#IMPORTS\n",
        "import pandas as pd\n",
        "import numpy as np\n",
        "import requests\n",
        "\n",
        "from sklearn.feature_extraction.text import TfidfVectorizer\n",
        "from sklearn.model_selection import train_test_split\n",
        "from sklearn.decomposition import PCA\n",
        "from sklearn.preprocessing import MultiLabelBinarizer\n",
        "from sklearn.multiclass import OneVsRestClassifier\n",
        "from sklearn.linear_model import LogisticRegression\n",
        "from sklearn.ensemble import RandomForestClassifier\n",
        "from sklearn.neighbors import KNeighborsClassifier\n",
        "import preprocess_kgptalkie as kgp\n",
        "from spacy.lang.en.stop_words import STOP_WORDS as stopwords\n",
        "\n",
        "from sklearn.metrics import plot_confusion_matrix,classification_report\n",
        "import tensorflow as tf\n",
        "\n",
        "from tensorflow import keras\n",
        "from keras.callbacks import TensorBoard\n",
        "\n",
        "from sklearn.pipeline import Pipeline\n",
        "from sklearn.model_selection import GridSearchCV\n",
        "\n",
        "import matplotlib.pyplot as plt\n",
        "import spacy\n",
        "import pickle as pkl"
      ]
    },
    {
      "cell_type": "code",
      "source": [
        "%load_ext tensorboard"
      ],
      "metadata": {
        "id": "XYCqd7H1N4X3"
      },
      "execution_count": null,
      "outputs": []
    },
    {
      "cell_type": "code",
      "source": [
        "from google.colab import drive\n",
        "drive.mount('/content/drive')"
      ],
      "metadata": {
        "id": "uqptdXAZGVv4"
      },
      "execution_count": null,
      "outputs": []
    },
    {
      "cell_type": "code",
      "source": [
        "df=pd.read_csv(\"/content/drive/MyDrive/libros/prueba_final.csv\")"
      ],
      "metadata": {
        "id": "zAqW8tI5GW9X"
      },
      "execution_count": null,
      "outputs": []
    },
    {
      "cell_type": "code",
      "source": [
        "df.head()"
      ],
      "metadata": {
        "colab": {
          "base_uri": "https://localhost:8080/",
          "height": 206
        },
        "id": "MQQvecsCLISy",
        "outputId": "f5ac6a7f-6ad4-4907-da1b-7550f10fa96a"
      },
      "execution_count": null,
      "outputs": [
        {
          "output_type": "execute_result",
          "data": {
            "text/plain": [
              "   Unnamed: 0                                                url target  \\\n",
              "0           0  https://www.gutenberg.org/cache/epub/68468/pg6...    [0]   \n",
              "1           1  https://www.gutenberg.org/cache/epub/63429/pg6...  [0,3]   \n",
              "2           2  https://www.gutenberg.org/cache/epub/15247/pg1...    [0]   \n",
              "3           3  https://www.gutenberg.org/cache/epub/47087/pg4...    [4]   \n",
              "4           4  https://www.gutenberg.org/cache/epub/18857/pg1...  [3,4]   \n",
              "\n",
              "                                                text  \\\n",
              "0  the project gutenberg ebook of told by the col...   \n",
              "1  the project gutenberg ebook of joe carsons wea...   \n",
              "2  the project gutenberg ebook of john henry smit...   \n",
              "3  the project gutenberg ebook of motor matts rac...   \n",
              "4  project gutenbergs a journey to the centre of ...   \n",
              "\n",
              "                                          clean_text  \n",
              "0  project gutenberg ebook told colonel william l...  \n",
              "1  project gutenberg ebook joe carsons weapon jam...  \n",
              "2  project gutenberg ebook john henry smith frede...  \n",
              "3  project gutenberg ebook motor matts race stanl...  \n",
              "4  project gutenbergs journey centre earth jules ...  "
            ],
            "text/html": [
              "\n",
              "  <div id=\"df-3c9a04d9-4265-4cf5-b3d5-0c6697b5ebcc\">\n",
              "    <div class=\"colab-df-container\">\n",
              "      <div>\n",
              "<style scoped>\n",
              "    .dataframe tbody tr th:only-of-type {\n",
              "        vertical-align: middle;\n",
              "    }\n",
              "\n",
              "    .dataframe tbody tr th {\n",
              "        vertical-align: top;\n",
              "    }\n",
              "\n",
              "    .dataframe thead th {\n",
              "        text-align: right;\n",
              "    }\n",
              "</style>\n",
              "<table border=\"1\" class=\"dataframe\">\n",
              "  <thead>\n",
              "    <tr style=\"text-align: right;\">\n",
              "      <th></th>\n",
              "      <th>Unnamed: 0</th>\n",
              "      <th>url</th>\n",
              "      <th>target</th>\n",
              "      <th>text</th>\n",
              "      <th>clean_text</th>\n",
              "    </tr>\n",
              "  </thead>\n",
              "  <tbody>\n",
              "    <tr>\n",
              "      <th>0</th>\n",
              "      <td>0</td>\n",
              "      <td>https://www.gutenberg.org/cache/epub/68468/pg6...</td>\n",
              "      <td>[0]</td>\n",
              "      <td>the project gutenberg ebook of told by the col...</td>\n",
              "      <td>project gutenberg ebook told colonel william l...</td>\n",
              "    </tr>\n",
              "    <tr>\n",
              "      <th>1</th>\n",
              "      <td>1</td>\n",
              "      <td>https://www.gutenberg.org/cache/epub/63429/pg6...</td>\n",
              "      <td>[0,3]</td>\n",
              "      <td>the project gutenberg ebook of joe carsons wea...</td>\n",
              "      <td>project gutenberg ebook joe carsons weapon jam...</td>\n",
              "    </tr>\n",
              "    <tr>\n",
              "      <th>2</th>\n",
              "      <td>2</td>\n",
              "      <td>https://www.gutenberg.org/cache/epub/15247/pg1...</td>\n",
              "      <td>[0]</td>\n",
              "      <td>the project gutenberg ebook of john henry smit...</td>\n",
              "      <td>project gutenberg ebook john henry smith frede...</td>\n",
              "    </tr>\n",
              "    <tr>\n",
              "      <th>3</th>\n",
              "      <td>3</td>\n",
              "      <td>https://www.gutenberg.org/cache/epub/47087/pg4...</td>\n",
              "      <td>[4]</td>\n",
              "      <td>the project gutenberg ebook of motor matts rac...</td>\n",
              "      <td>project gutenberg ebook motor matts race stanl...</td>\n",
              "    </tr>\n",
              "    <tr>\n",
              "      <th>4</th>\n",
              "      <td>4</td>\n",
              "      <td>https://www.gutenberg.org/cache/epub/18857/pg1...</td>\n",
              "      <td>[3,4]</td>\n",
              "      <td>project gutenbergs a journey to the centre of ...</td>\n",
              "      <td>project gutenbergs journey centre earth jules ...</td>\n",
              "    </tr>\n",
              "  </tbody>\n",
              "</table>\n",
              "</div>\n",
              "      <button class=\"colab-df-convert\" onclick=\"convertToInteractive('df-3c9a04d9-4265-4cf5-b3d5-0c6697b5ebcc')\"\n",
              "              title=\"Convert this dataframe to an interactive table.\"\n",
              "              style=\"display:none;\">\n",
              "        \n",
              "  <svg xmlns=\"http://www.w3.org/2000/svg\" height=\"24px\"viewBox=\"0 0 24 24\"\n",
              "       width=\"24px\">\n",
              "    <path d=\"M0 0h24v24H0V0z\" fill=\"none\"/>\n",
              "    <path d=\"M18.56 5.44l.94 2.06.94-2.06 2.06-.94-2.06-.94-.94-2.06-.94 2.06-2.06.94zm-11 1L8.5 8.5l.94-2.06 2.06-.94-2.06-.94L8.5 2.5l-.94 2.06-2.06.94zm10 10l.94 2.06.94-2.06 2.06-.94-2.06-.94-.94-2.06-.94 2.06-2.06.94z\"/><path d=\"M17.41 7.96l-1.37-1.37c-.4-.4-.92-.59-1.43-.59-.52 0-1.04.2-1.43.59L10.3 9.45l-7.72 7.72c-.78.78-.78 2.05 0 2.83L4 21.41c.39.39.9.59 1.41.59.51 0 1.02-.2 1.41-.59l7.78-7.78 2.81-2.81c.8-.78.8-2.07 0-2.86zM5.41 20L4 18.59l7.72-7.72 1.47 1.35L5.41 20z\"/>\n",
              "  </svg>\n",
              "      </button>\n",
              "      \n",
              "  <style>\n",
              "    .colab-df-container {\n",
              "      display:flex;\n",
              "      flex-wrap:wrap;\n",
              "      gap: 12px;\n",
              "    }\n",
              "\n",
              "    .colab-df-convert {\n",
              "      background-color: #E8F0FE;\n",
              "      border: none;\n",
              "      border-radius: 50%;\n",
              "      cursor: pointer;\n",
              "      display: none;\n",
              "      fill: #1967D2;\n",
              "      height: 32px;\n",
              "      padding: 0 0 0 0;\n",
              "      width: 32px;\n",
              "    }\n",
              "\n",
              "    .colab-df-convert:hover {\n",
              "      background-color: #E2EBFA;\n",
              "      box-shadow: 0px 1px 2px rgba(60, 64, 67, 0.3), 0px 1px 3px 1px rgba(60, 64, 67, 0.15);\n",
              "      fill: #174EA6;\n",
              "    }\n",
              "\n",
              "    [theme=dark] .colab-df-convert {\n",
              "      background-color: #3B4455;\n",
              "      fill: #D2E3FC;\n",
              "    }\n",
              "\n",
              "    [theme=dark] .colab-df-convert:hover {\n",
              "      background-color: #434B5C;\n",
              "      box-shadow: 0px 1px 3px 1px rgba(0, 0, 0, 0.15);\n",
              "      filter: drop-shadow(0px 1px 2px rgba(0, 0, 0, 0.3));\n",
              "      fill: #FFFFFF;\n",
              "    }\n",
              "  </style>\n",
              "\n",
              "      <script>\n",
              "        const buttonEl =\n",
              "          document.querySelector('#df-3c9a04d9-4265-4cf5-b3d5-0c6697b5ebcc button.colab-df-convert');\n",
              "        buttonEl.style.display =\n",
              "          google.colab.kernel.accessAllowed ? 'block' : 'none';\n",
              "\n",
              "        async function convertToInteractive(key) {\n",
              "          const element = document.querySelector('#df-3c9a04d9-4265-4cf5-b3d5-0c6697b5ebcc');\n",
              "          const dataTable =\n",
              "            await google.colab.kernel.invokeFunction('convertToInteractive',\n",
              "                                                     [key], {});\n",
              "          if (!dataTable) return;\n",
              "\n",
              "          const docLinkHtml = 'Like what you see? Visit the ' +\n",
              "            '<a target=\"_blank\" href=https://colab.research.google.com/notebooks/data_table.ipynb>data table notebook</a>'\n",
              "            + ' to learn more about interactive tables.';\n",
              "          element.innerHTML = '';\n",
              "          dataTable['output_type'] = 'display_data';\n",
              "          await google.colab.output.renderOutput(dataTable, element);\n",
              "          const docLink = document.createElement('div');\n",
              "          docLink.innerHTML = docLinkHtml;\n",
              "          element.appendChild(docLink);\n",
              "        }\n",
              "      </script>\n",
              "    </div>\n",
              "  </div>\n",
              "  "
            ]
          },
          "metadata": {},
          "execution_count": 6
        }
      ]
    },
    {
      "cell_type": "code",
      "source": [
        "data=pd.DataFrame()\n",
        "data[\"text\"]=df[\"clean_text\"]\n",
        "data[\"target\"]=df[\"target\"]\n",
        "data.head()"
      ],
      "metadata": {
        "colab": {
          "base_uri": "https://localhost:8080/",
          "height": 206
        },
        "id": "5RRgY6SKLJTU",
        "outputId": "b7998be0-8571-4526-a7fe-42afc5539bba"
      },
      "execution_count": null,
      "outputs": [
        {
          "output_type": "execute_result",
          "data": {
            "text/plain": [
              "                                                text target\n",
              "0  project gutenberg ebook told colonel william l...    [0]\n",
              "1  project gutenberg ebook joe carsons weapon jam...  [0,3]\n",
              "2  project gutenberg ebook john henry smith frede...    [0]\n",
              "3  project gutenberg ebook motor matts race stanl...    [4]\n",
              "4  project gutenbergs journey centre earth jules ...  [3,4]"
            ],
            "text/html": [
              "\n",
              "  <div id=\"df-4481d24d-9fdd-4bfc-b392-590b0627b120\">\n",
              "    <div class=\"colab-df-container\">\n",
              "      <div>\n",
              "<style scoped>\n",
              "    .dataframe tbody tr th:only-of-type {\n",
              "        vertical-align: middle;\n",
              "    }\n",
              "\n",
              "    .dataframe tbody tr th {\n",
              "        vertical-align: top;\n",
              "    }\n",
              "\n",
              "    .dataframe thead th {\n",
              "        text-align: right;\n",
              "    }\n",
              "</style>\n",
              "<table border=\"1\" class=\"dataframe\">\n",
              "  <thead>\n",
              "    <tr style=\"text-align: right;\">\n",
              "      <th></th>\n",
              "      <th>text</th>\n",
              "      <th>target</th>\n",
              "    </tr>\n",
              "  </thead>\n",
              "  <tbody>\n",
              "    <tr>\n",
              "      <th>0</th>\n",
              "      <td>project gutenberg ebook told colonel william l...</td>\n",
              "      <td>[0]</td>\n",
              "    </tr>\n",
              "    <tr>\n",
              "      <th>1</th>\n",
              "      <td>project gutenberg ebook joe carsons weapon jam...</td>\n",
              "      <td>[0,3]</td>\n",
              "    </tr>\n",
              "    <tr>\n",
              "      <th>2</th>\n",
              "      <td>project gutenberg ebook john henry smith frede...</td>\n",
              "      <td>[0]</td>\n",
              "    </tr>\n",
              "    <tr>\n",
              "      <th>3</th>\n",
              "      <td>project gutenberg ebook motor matts race stanl...</td>\n",
              "      <td>[4]</td>\n",
              "    </tr>\n",
              "    <tr>\n",
              "      <th>4</th>\n",
              "      <td>project gutenbergs journey centre earth jules ...</td>\n",
              "      <td>[3,4]</td>\n",
              "    </tr>\n",
              "  </tbody>\n",
              "</table>\n",
              "</div>\n",
              "      <button class=\"colab-df-convert\" onclick=\"convertToInteractive('df-4481d24d-9fdd-4bfc-b392-590b0627b120')\"\n",
              "              title=\"Convert this dataframe to an interactive table.\"\n",
              "              style=\"display:none;\">\n",
              "        \n",
              "  <svg xmlns=\"http://www.w3.org/2000/svg\" height=\"24px\"viewBox=\"0 0 24 24\"\n",
              "       width=\"24px\">\n",
              "    <path d=\"M0 0h24v24H0V0z\" fill=\"none\"/>\n",
              "    <path d=\"M18.56 5.44l.94 2.06.94-2.06 2.06-.94-2.06-.94-.94-2.06-.94 2.06-2.06.94zm-11 1L8.5 8.5l.94-2.06 2.06-.94-2.06-.94L8.5 2.5l-.94 2.06-2.06.94zm10 10l.94 2.06.94-2.06 2.06-.94-2.06-.94-.94-2.06-.94 2.06-2.06.94z\"/><path d=\"M17.41 7.96l-1.37-1.37c-.4-.4-.92-.59-1.43-.59-.52 0-1.04.2-1.43.59L10.3 9.45l-7.72 7.72c-.78.78-.78 2.05 0 2.83L4 21.41c.39.39.9.59 1.41.59.51 0 1.02-.2 1.41-.59l7.78-7.78 2.81-2.81c.8-.78.8-2.07 0-2.86zM5.41 20L4 18.59l7.72-7.72 1.47 1.35L5.41 20z\"/>\n",
              "  </svg>\n",
              "      </button>\n",
              "      \n",
              "  <style>\n",
              "    .colab-df-container {\n",
              "      display:flex;\n",
              "      flex-wrap:wrap;\n",
              "      gap: 12px;\n",
              "    }\n",
              "\n",
              "    .colab-df-convert {\n",
              "      background-color: #E8F0FE;\n",
              "      border: none;\n",
              "      border-radius: 50%;\n",
              "      cursor: pointer;\n",
              "      display: none;\n",
              "      fill: #1967D2;\n",
              "      height: 32px;\n",
              "      padding: 0 0 0 0;\n",
              "      width: 32px;\n",
              "    }\n",
              "\n",
              "    .colab-df-convert:hover {\n",
              "      background-color: #E2EBFA;\n",
              "      box-shadow: 0px 1px 2px rgba(60, 64, 67, 0.3), 0px 1px 3px 1px rgba(60, 64, 67, 0.15);\n",
              "      fill: #174EA6;\n",
              "    }\n",
              "\n",
              "    [theme=dark] .colab-df-convert {\n",
              "      background-color: #3B4455;\n",
              "      fill: #D2E3FC;\n",
              "    }\n",
              "\n",
              "    [theme=dark] .colab-df-convert:hover {\n",
              "      background-color: #434B5C;\n",
              "      box-shadow: 0px 1px 3px 1px rgba(0, 0, 0, 0.15);\n",
              "      filter: drop-shadow(0px 1px 2px rgba(0, 0, 0, 0.3));\n",
              "      fill: #FFFFFF;\n",
              "    }\n",
              "  </style>\n",
              "\n",
              "      <script>\n",
              "        const buttonEl =\n",
              "          document.querySelector('#df-4481d24d-9fdd-4bfc-b392-590b0627b120 button.colab-df-convert');\n",
              "        buttonEl.style.display =\n",
              "          google.colab.kernel.accessAllowed ? 'block' : 'none';\n",
              "\n",
              "        async function convertToInteractive(key) {\n",
              "          const element = document.querySelector('#df-4481d24d-9fdd-4bfc-b392-590b0627b120');\n",
              "          const dataTable =\n",
              "            await google.colab.kernel.invokeFunction('convertToInteractive',\n",
              "                                                     [key], {});\n",
              "          if (!dataTable) return;\n",
              "\n",
              "          const docLinkHtml = 'Like what you see? Visit the ' +\n",
              "            '<a target=\"_blank\" href=https://colab.research.google.com/notebooks/data_table.ipynb>data table notebook</a>'\n",
              "            + ' to learn more about interactive tables.';\n",
              "          element.innerHTML = '';\n",
              "          dataTable['output_type'] = 'display_data';\n",
              "          await google.colab.output.renderOutput(dataTable, element);\n",
              "          const docLink = document.createElement('div');\n",
              "          docLink.innerHTML = docLinkHtml;\n",
              "          element.appendChild(docLink);\n",
              "        }\n",
              "      </script>\n",
              "    </div>\n",
              "  </div>\n",
              "  "
            ]
          },
          "metadata": {},
          "execution_count": 7
        }
      ]
    },
    {
      "cell_type": "code",
      "source": [
        "#TRATAMIENTO DEL TARGET\n",
        "multilabel = MultiLabelBinarizer()\n",
        "y = multilabel.fit_transform(data['target'])\n",
        "classes = multilabel.classes_\n",
        "y_=pd.DataFrame(y,columns=classes)\n",
        "y_.head()"
      ],
      "metadata": {
        "colab": {
          "base_uri": "https://localhost:8080/",
          "height": 206
        },
        "id": "1IoZWFsxNue5",
        "outputId": "f7f415b9-1a57-4f47-99cb-36517f7bd0a0"
      },
      "execution_count": null,
      "outputs": [
        {
          "output_type": "execute_result",
          "data": {
            "text/plain": [
              "   ,  0  1  3  4  5  6  7  8  [  ]\n",
              "0  0  1  0  0  0  0  0  0  0  1  1\n",
              "1  1  1  0  1  0  0  0  0  0  1  1\n",
              "2  0  1  0  0  0  0  0  0  0  1  1\n",
              "3  0  0  0  0  1  0  0  0  0  1  1\n",
              "4  1  0  0  1  1  0  0  0  0  1  1"
            ],
            "text/html": [
              "\n",
              "  <div id=\"df-13e31f02-54cf-43a2-ad1e-d0f6b87f7c2b\">\n",
              "    <div class=\"colab-df-container\">\n",
              "      <div>\n",
              "<style scoped>\n",
              "    .dataframe tbody tr th:only-of-type {\n",
              "        vertical-align: middle;\n",
              "    }\n",
              "\n",
              "    .dataframe tbody tr th {\n",
              "        vertical-align: top;\n",
              "    }\n",
              "\n",
              "    .dataframe thead th {\n",
              "        text-align: right;\n",
              "    }\n",
              "</style>\n",
              "<table border=\"1\" class=\"dataframe\">\n",
              "  <thead>\n",
              "    <tr style=\"text-align: right;\">\n",
              "      <th></th>\n",
              "      <th>,</th>\n",
              "      <th>0</th>\n",
              "      <th>1</th>\n",
              "      <th>3</th>\n",
              "      <th>4</th>\n",
              "      <th>5</th>\n",
              "      <th>6</th>\n",
              "      <th>7</th>\n",
              "      <th>8</th>\n",
              "      <th>[</th>\n",
              "      <th>]</th>\n",
              "    </tr>\n",
              "  </thead>\n",
              "  <tbody>\n",
              "    <tr>\n",
              "      <th>0</th>\n",
              "      <td>0</td>\n",
              "      <td>1</td>\n",
              "      <td>0</td>\n",
              "      <td>0</td>\n",
              "      <td>0</td>\n",
              "      <td>0</td>\n",
              "      <td>0</td>\n",
              "      <td>0</td>\n",
              "      <td>0</td>\n",
              "      <td>1</td>\n",
              "      <td>1</td>\n",
              "    </tr>\n",
              "    <tr>\n",
              "      <th>1</th>\n",
              "      <td>1</td>\n",
              "      <td>1</td>\n",
              "      <td>0</td>\n",
              "      <td>1</td>\n",
              "      <td>0</td>\n",
              "      <td>0</td>\n",
              "      <td>0</td>\n",
              "      <td>0</td>\n",
              "      <td>0</td>\n",
              "      <td>1</td>\n",
              "      <td>1</td>\n",
              "    </tr>\n",
              "    <tr>\n",
              "      <th>2</th>\n",
              "      <td>0</td>\n",
              "      <td>1</td>\n",
              "      <td>0</td>\n",
              "      <td>0</td>\n",
              "      <td>0</td>\n",
              "      <td>0</td>\n",
              "      <td>0</td>\n",
              "      <td>0</td>\n",
              "      <td>0</td>\n",
              "      <td>1</td>\n",
              "      <td>1</td>\n",
              "    </tr>\n",
              "    <tr>\n",
              "      <th>3</th>\n",
              "      <td>0</td>\n",
              "      <td>0</td>\n",
              "      <td>0</td>\n",
              "      <td>0</td>\n",
              "      <td>1</td>\n",
              "      <td>0</td>\n",
              "      <td>0</td>\n",
              "      <td>0</td>\n",
              "      <td>0</td>\n",
              "      <td>1</td>\n",
              "      <td>1</td>\n",
              "    </tr>\n",
              "    <tr>\n",
              "      <th>4</th>\n",
              "      <td>1</td>\n",
              "      <td>0</td>\n",
              "      <td>0</td>\n",
              "      <td>1</td>\n",
              "      <td>1</td>\n",
              "      <td>0</td>\n",
              "      <td>0</td>\n",
              "      <td>0</td>\n",
              "      <td>0</td>\n",
              "      <td>1</td>\n",
              "      <td>1</td>\n",
              "    </tr>\n",
              "  </tbody>\n",
              "</table>\n",
              "</div>\n",
              "      <button class=\"colab-df-convert\" onclick=\"convertToInteractive('df-13e31f02-54cf-43a2-ad1e-d0f6b87f7c2b')\"\n",
              "              title=\"Convert this dataframe to an interactive table.\"\n",
              "              style=\"display:none;\">\n",
              "        \n",
              "  <svg xmlns=\"http://www.w3.org/2000/svg\" height=\"24px\"viewBox=\"0 0 24 24\"\n",
              "       width=\"24px\">\n",
              "    <path d=\"M0 0h24v24H0V0z\" fill=\"none\"/>\n",
              "    <path d=\"M18.56 5.44l.94 2.06.94-2.06 2.06-.94-2.06-.94-.94-2.06-.94 2.06-2.06.94zm-11 1L8.5 8.5l.94-2.06 2.06-.94-2.06-.94L8.5 2.5l-.94 2.06-2.06.94zm10 10l.94 2.06.94-2.06 2.06-.94-2.06-.94-.94-2.06-.94 2.06-2.06.94z\"/><path d=\"M17.41 7.96l-1.37-1.37c-.4-.4-.92-.59-1.43-.59-.52 0-1.04.2-1.43.59L10.3 9.45l-7.72 7.72c-.78.78-.78 2.05 0 2.83L4 21.41c.39.39.9.59 1.41.59.51 0 1.02-.2 1.41-.59l7.78-7.78 2.81-2.81c.8-.78.8-2.07 0-2.86zM5.41 20L4 18.59l7.72-7.72 1.47 1.35L5.41 20z\"/>\n",
              "  </svg>\n",
              "      </button>\n",
              "      \n",
              "  <style>\n",
              "    .colab-df-container {\n",
              "      display:flex;\n",
              "      flex-wrap:wrap;\n",
              "      gap: 12px;\n",
              "    }\n",
              "\n",
              "    .colab-df-convert {\n",
              "      background-color: #E8F0FE;\n",
              "      border: none;\n",
              "      border-radius: 50%;\n",
              "      cursor: pointer;\n",
              "      display: none;\n",
              "      fill: #1967D2;\n",
              "      height: 32px;\n",
              "      padding: 0 0 0 0;\n",
              "      width: 32px;\n",
              "    }\n",
              "\n",
              "    .colab-df-convert:hover {\n",
              "      background-color: #E2EBFA;\n",
              "      box-shadow: 0px 1px 2px rgba(60, 64, 67, 0.3), 0px 1px 3px 1px rgba(60, 64, 67, 0.15);\n",
              "      fill: #174EA6;\n",
              "    }\n",
              "\n",
              "    [theme=dark] .colab-df-convert {\n",
              "      background-color: #3B4455;\n",
              "      fill: #D2E3FC;\n",
              "    }\n",
              "\n",
              "    [theme=dark] .colab-df-convert:hover {\n",
              "      background-color: #434B5C;\n",
              "      box-shadow: 0px 1px 3px 1px rgba(0, 0, 0, 0.15);\n",
              "      filter: drop-shadow(0px 1px 2px rgba(0, 0, 0, 0.3));\n",
              "      fill: #FFFFFF;\n",
              "    }\n",
              "  </style>\n",
              "\n",
              "      <script>\n",
              "        const buttonEl =\n",
              "          document.querySelector('#df-13e31f02-54cf-43a2-ad1e-d0f6b87f7c2b button.colab-df-convert');\n",
              "        buttonEl.style.display =\n",
              "          google.colab.kernel.accessAllowed ? 'block' : 'none';\n",
              "\n",
              "        async function convertToInteractive(key) {\n",
              "          const element = document.querySelector('#df-13e31f02-54cf-43a2-ad1e-d0f6b87f7c2b');\n",
              "          const dataTable =\n",
              "            await google.colab.kernel.invokeFunction('convertToInteractive',\n",
              "                                                     [key], {});\n",
              "          if (!dataTable) return;\n",
              "\n",
              "          const docLinkHtml = 'Like what you see? Visit the ' +\n",
              "            '<a target=\"_blank\" href=https://colab.research.google.com/notebooks/data_table.ipynb>data table notebook</a>'\n",
              "            + ' to learn more about interactive tables.';\n",
              "          element.innerHTML = '';\n",
              "          dataTable['output_type'] = 'display_data';\n",
              "          await google.colab.output.renderOutput(dataTable, element);\n",
              "          const docLink = document.createElement('div');\n",
              "          docLink.innerHTML = docLinkHtml;\n",
              "          element.appendChild(docLink);\n",
              "        }\n",
              "      </script>\n",
              "    </div>\n",
              "  </div>\n",
              "  "
            ]
          },
          "metadata": {},
          "execution_count": 8
        }
      ]
    },
    {
      "cell_type": "code",
      "source": [
        "y_=y_.drop([\",\",\"[\",\"]\"], axis=1)\n",
        "y_.columns=[\"humor\",\"amor\",\"science fiction\",\"aventuras\",\"historica\",\"psicologico\",\"guerra\",\"terror\"]\n",
        "y_.head()"
      ],
      "metadata": {
        "colab": {
          "base_uri": "https://localhost:8080/",
          "height": 206
        },
        "id": "F3DKI3XgQqlx",
        "outputId": "7a84535e-8167-48d4-da21-6dc3194ed2b5"
      },
      "execution_count": null,
      "outputs": [
        {
          "output_type": "execute_result",
          "data": {
            "text/plain": [
              "   humor  amor  science fiction  aventuras  historica  psicologico  guerra  \\\n",
              "0      1     0                0          0          0            0       0   \n",
              "1      1     0                1          0          0            0       0   \n",
              "2      1     0                0          0          0            0       0   \n",
              "3      0     0                0          1          0            0       0   \n",
              "4      0     0                1          1          0            0       0   \n",
              "\n",
              "   terror  \n",
              "0       0  \n",
              "1       0  \n",
              "2       0  \n",
              "3       0  \n",
              "4       0  "
            ],
            "text/html": [
              "\n",
              "  <div id=\"df-0847f67a-b5c7-4831-bd5d-9c6defa6f2bb\">\n",
              "    <div class=\"colab-df-container\">\n",
              "      <div>\n",
              "<style scoped>\n",
              "    .dataframe tbody tr th:only-of-type {\n",
              "        vertical-align: middle;\n",
              "    }\n",
              "\n",
              "    .dataframe tbody tr th {\n",
              "        vertical-align: top;\n",
              "    }\n",
              "\n",
              "    .dataframe thead th {\n",
              "        text-align: right;\n",
              "    }\n",
              "</style>\n",
              "<table border=\"1\" class=\"dataframe\">\n",
              "  <thead>\n",
              "    <tr style=\"text-align: right;\">\n",
              "      <th></th>\n",
              "      <th>humor</th>\n",
              "      <th>amor</th>\n",
              "      <th>science fiction</th>\n",
              "      <th>aventuras</th>\n",
              "      <th>historica</th>\n",
              "      <th>psicologico</th>\n",
              "      <th>guerra</th>\n",
              "      <th>terror</th>\n",
              "    </tr>\n",
              "  </thead>\n",
              "  <tbody>\n",
              "    <tr>\n",
              "      <th>0</th>\n",
              "      <td>1</td>\n",
              "      <td>0</td>\n",
              "      <td>0</td>\n",
              "      <td>0</td>\n",
              "      <td>0</td>\n",
              "      <td>0</td>\n",
              "      <td>0</td>\n",
              "      <td>0</td>\n",
              "    </tr>\n",
              "    <tr>\n",
              "      <th>1</th>\n",
              "      <td>1</td>\n",
              "      <td>0</td>\n",
              "      <td>1</td>\n",
              "      <td>0</td>\n",
              "      <td>0</td>\n",
              "      <td>0</td>\n",
              "      <td>0</td>\n",
              "      <td>0</td>\n",
              "    </tr>\n",
              "    <tr>\n",
              "      <th>2</th>\n",
              "      <td>1</td>\n",
              "      <td>0</td>\n",
              "      <td>0</td>\n",
              "      <td>0</td>\n",
              "      <td>0</td>\n",
              "      <td>0</td>\n",
              "      <td>0</td>\n",
              "      <td>0</td>\n",
              "    </tr>\n",
              "    <tr>\n",
              "      <th>3</th>\n",
              "      <td>0</td>\n",
              "      <td>0</td>\n",
              "      <td>0</td>\n",
              "      <td>1</td>\n",
              "      <td>0</td>\n",
              "      <td>0</td>\n",
              "      <td>0</td>\n",
              "      <td>0</td>\n",
              "    </tr>\n",
              "    <tr>\n",
              "      <th>4</th>\n",
              "      <td>0</td>\n",
              "      <td>0</td>\n",
              "      <td>1</td>\n",
              "      <td>1</td>\n",
              "      <td>0</td>\n",
              "      <td>0</td>\n",
              "      <td>0</td>\n",
              "      <td>0</td>\n",
              "    </tr>\n",
              "  </tbody>\n",
              "</table>\n",
              "</div>\n",
              "      <button class=\"colab-df-convert\" onclick=\"convertToInteractive('df-0847f67a-b5c7-4831-bd5d-9c6defa6f2bb')\"\n",
              "              title=\"Convert this dataframe to an interactive table.\"\n",
              "              style=\"display:none;\">\n",
              "        \n",
              "  <svg xmlns=\"http://www.w3.org/2000/svg\" height=\"24px\"viewBox=\"0 0 24 24\"\n",
              "       width=\"24px\">\n",
              "    <path d=\"M0 0h24v24H0V0z\" fill=\"none\"/>\n",
              "    <path d=\"M18.56 5.44l.94 2.06.94-2.06 2.06-.94-2.06-.94-.94-2.06-.94 2.06-2.06.94zm-11 1L8.5 8.5l.94-2.06 2.06-.94-2.06-.94L8.5 2.5l-.94 2.06-2.06.94zm10 10l.94 2.06.94-2.06 2.06-.94-2.06-.94-.94-2.06-.94 2.06-2.06.94z\"/><path d=\"M17.41 7.96l-1.37-1.37c-.4-.4-.92-.59-1.43-.59-.52 0-1.04.2-1.43.59L10.3 9.45l-7.72 7.72c-.78.78-.78 2.05 0 2.83L4 21.41c.39.39.9.59 1.41.59.51 0 1.02-.2 1.41-.59l7.78-7.78 2.81-2.81c.8-.78.8-2.07 0-2.86zM5.41 20L4 18.59l7.72-7.72 1.47 1.35L5.41 20z\"/>\n",
              "  </svg>\n",
              "      </button>\n",
              "      \n",
              "  <style>\n",
              "    .colab-df-container {\n",
              "      display:flex;\n",
              "      flex-wrap:wrap;\n",
              "      gap: 12px;\n",
              "    }\n",
              "\n",
              "    .colab-df-convert {\n",
              "      background-color: #E8F0FE;\n",
              "      border: none;\n",
              "      border-radius: 50%;\n",
              "      cursor: pointer;\n",
              "      display: none;\n",
              "      fill: #1967D2;\n",
              "      height: 32px;\n",
              "      padding: 0 0 0 0;\n",
              "      width: 32px;\n",
              "    }\n",
              "\n",
              "    .colab-df-convert:hover {\n",
              "      background-color: #E2EBFA;\n",
              "      box-shadow: 0px 1px 2px rgba(60, 64, 67, 0.3), 0px 1px 3px 1px rgba(60, 64, 67, 0.15);\n",
              "      fill: #174EA6;\n",
              "    }\n",
              "\n",
              "    [theme=dark] .colab-df-convert {\n",
              "      background-color: #3B4455;\n",
              "      fill: #D2E3FC;\n",
              "    }\n",
              "\n",
              "    [theme=dark] .colab-df-convert:hover {\n",
              "      background-color: #434B5C;\n",
              "      box-shadow: 0px 1px 3px 1px rgba(0, 0, 0, 0.15);\n",
              "      filter: drop-shadow(0px 1px 2px rgba(0, 0, 0, 0.3));\n",
              "      fill: #FFFFFF;\n",
              "    }\n",
              "  </style>\n",
              "\n",
              "      <script>\n",
              "        const buttonEl =\n",
              "          document.querySelector('#df-0847f67a-b5c7-4831-bd5d-9c6defa6f2bb button.colab-df-convert');\n",
              "        buttonEl.style.display =\n",
              "          google.colab.kernel.accessAllowed ? 'block' : 'none';\n",
              "\n",
              "        async function convertToInteractive(key) {\n",
              "          const element = document.querySelector('#df-0847f67a-b5c7-4831-bd5d-9c6defa6f2bb');\n",
              "          const dataTable =\n",
              "            await google.colab.kernel.invokeFunction('convertToInteractive',\n",
              "                                                     [key], {});\n",
              "          if (!dataTable) return;\n",
              "\n",
              "          const docLinkHtml = 'Like what you see? Visit the ' +\n",
              "            '<a target=\"_blank\" href=https://colab.research.google.com/notebooks/data_table.ipynb>data table notebook</a>'\n",
              "            + ' to learn more about interactive tables.';\n",
              "          element.innerHTML = '';\n",
              "          dataTable['output_type'] = 'display_data';\n",
              "          await google.colab.output.renderOutput(dataTable, element);\n",
              "          const docLink = document.createElement('div');\n",
              "          docLink.innerHTML = docLinkHtml;\n",
              "          element.appendChild(docLink);\n",
              "        }\n",
              "      </script>\n",
              "    </div>\n",
              "  </div>\n",
              "  "
            ]
          },
          "metadata": {},
          "execution_count": 9
        }
      ]
    },
    {
      "cell_type": "code",
      "source": [
        "y2_=np.array(y_)\n",
        "y2_.shape"
      ],
      "metadata": {
        "colab": {
          "base_uri": "https://localhost:8080/"
        },
        "id": "s1HPyqg8RVrS",
        "outputId": "f32cb74e-9da0-4f7c-d80d-c49bae708ed9"
      },
      "execution_count": null,
      "outputs": [
        {
          "output_type": "execute_result",
          "data": {
            "text/plain": [
              "(370, 8)"
            ]
          },
          "metadata": {},
          "execution_count": 10
        }
      ]
    },
    {
      "cell_type": "markdown",
      "source": [
        "# TFIDF + PCA +CLASIFICADOR"
      ],
      "metadata": {
        "id": "CNqJpkeNfol2"
      }
    },
    {
      "cell_type": "code",
      "source": [
        "x1=data[\"text\"]\n",
        "y1=y2_\n",
        "\n",
        "tfidf=TfidfVectorizer()\n",
        "x1=tfidf.fit_transform(x1)\n",
        "\n",
        "print(\"shape of x1\", x1.shape)\n",
        "print(\"shape of y1\", y1.shape)"
      ],
      "metadata": {
        "colab": {
          "base_uri": "https://localhost:8080/"
        },
        "id": "GkVo9qxMLa0e",
        "outputId": "0babfc5a-a0c1-42cb-b8ac-d9334b422d7a"
      },
      "execution_count": null,
      "outputs": [
        {
          "output_type": "stream",
          "name": "stdout",
          "text": [
            "shape of x1 (370, 428732)\n",
            "shape of y1 (370, 8)\n"
          ]
        }
      ]
    },
    {
      "cell_type": "code",
      "source": [
        "# COMPROBACIÓN DEL USO DE PCA\n",
        "x1_=x1.toarray()\n",
        "x1_=pd.DataFrame(x1_)"
      ],
      "metadata": {
        "id": "YP7enSSETjMr"
      },
      "execution_count": null,
      "outputs": []
    },
    {
      "cell_type": "code",
      "source": [
        "#Con esto código probamos la varianza explicativa para cada número de variables escogidos\n",
        "min_var = 0.9\n",
        "pca_var= PCA(n_components=min_var, svd_solver='full')\n",
        "\n",
        "X_pca = pca_var.fit_transform(x1_)\n",
        "\n",
        "X_pca.shape\n",
        "\n",
        "pca_var= PCA(n_components=min_var, svd_solver='full')\n",
        "\n",
        "X_pca2 = pca_var.fit(x1_)\n",
        "\n",
        "print('Nº de componentes:', len(X_pca2.components_))\n",
        "print('Ratio de varianza explicada:')\n",
        "print(X_pca2.explained_variance_ratio_)"
      ],
      "metadata": {
        "colab": {
          "base_uri": "https://localhost:8080/"
        },
        "id": "sfTH3uqtSuDI",
        "outputId": "36439a07-4f7a-43a3-9a2c-b288ac00fc22"
      },
      "execution_count": null,
      "outputs": [
        {
          "output_type": "stream",
          "name": "stdout",
          "text": [
            "Nº de componentes: 270\n",
            "Ratio de varianza explicada:\n",
            "[0.03755544 0.01975315 0.01419666 0.01162174 0.01089178 0.0090699\n",
            " 0.00845298 0.00723166 0.00691701 0.00652449 0.00640314 0.00635176\n",
            " 0.00609314 0.00605043 0.00587647 0.00581999 0.00571814 0.00569693\n",
            " 0.00566647 0.00559701 0.00555345 0.00547821 0.00545874 0.00533067\n",
            " 0.00529968 0.00525467 0.00517536 0.00506356 0.00505453 0.00496267\n",
            " 0.00492757 0.00482235 0.00475257 0.00469301 0.00458135 0.00447935\n",
            " 0.00430926 0.00422373 0.00419836 0.00414729 0.00409113 0.0040253\n",
            " 0.00399901 0.00396558 0.00392798 0.00386911 0.00383957 0.00379471\n",
            " 0.00377625 0.00371433 0.00370717 0.00364975 0.0035667  0.00354873\n",
            " 0.00353494 0.00351748 0.00348052 0.0034267  0.00339137 0.00335126\n",
            " 0.00333218 0.00331694 0.00329674 0.00328665 0.00324556 0.003242\n",
            " 0.00320862 0.00318384 0.00317369 0.00314912 0.00314232 0.00312602\n",
            " 0.00311846 0.00310718 0.00309464 0.00307671 0.00306382 0.00305763\n",
            " 0.00303767 0.00303297 0.00302886 0.00301506 0.00301056 0.00300288\n",
            " 0.0029877  0.00297988 0.00297623 0.00296817 0.00295555 0.00294834\n",
            " 0.00294339 0.00293558 0.00293366 0.00292346 0.00291892 0.00291428\n",
            " 0.00290896 0.00290341 0.00289707 0.00288749 0.00288493 0.00287938\n",
            " 0.00287576 0.0028668  0.00285936 0.00285339 0.0028502  0.00284395\n",
            " 0.0028358  0.00283117 0.00282629 0.00282119 0.0028143  0.0028127\n",
            " 0.00280285 0.00279719 0.00279407 0.00279055 0.00278543 0.00278226\n",
            " 0.00277797 0.00277472 0.00276861 0.00276722 0.00276415 0.00275724\n",
            " 0.00275154 0.00274791 0.00273719 0.00273414 0.00273107 0.00272536\n",
            " 0.00272279 0.00272231 0.00271689 0.0027134  0.00271037 0.0027064\n",
            " 0.0027007  0.00269641 0.00268887 0.00268799 0.00268044 0.00267725\n",
            " 0.00267251 0.00267054 0.00266625 0.00266085 0.00265447 0.00265115\n",
            " 0.00264723 0.00264298 0.00263896 0.00263797 0.0026338  0.00263131\n",
            " 0.00262868 0.00262679 0.00261966 0.00261402 0.00260788 0.00260009\n",
            " 0.00259418 0.00258981 0.00258674 0.00258283 0.00258057 0.00256952\n",
            " 0.00256867 0.00256415 0.00256258 0.00256168 0.00255182 0.0025451\n",
            " 0.00254216 0.00253678 0.00252904 0.00252432 0.00251947 0.00251458\n",
            " 0.0025138  0.00250315 0.00249707 0.002492   0.00248979 0.00248451\n",
            " 0.00248208 0.00246996 0.00246714 0.00246144 0.0024541  0.00244988\n",
            " 0.0024444  0.00244375 0.00243098 0.00242588 0.00241724 0.00241502\n",
            " 0.00241215 0.00240806 0.00240067 0.00239481 0.00238055 0.00237742\n",
            " 0.00237265 0.00236728 0.00236177 0.0023546  0.00235065 0.00234555\n",
            " 0.00233455 0.00233037 0.00232184 0.00231908 0.00230895 0.00230628\n",
            " 0.00229482 0.00228835 0.00228361 0.00228005 0.00226569 0.00225995\n",
            " 0.00225418 0.00224188 0.0022387  0.00222852 0.00222183 0.00221309\n",
            " 0.00220336 0.00219698 0.0021929  0.00216859 0.00216329 0.00215935\n",
            " 0.00214951 0.00213805 0.00213611 0.00212812 0.00212239 0.00211263\n",
            " 0.00211    0.00209833 0.00209763 0.00208731 0.00208269 0.00207659\n",
            " 0.00206187 0.00205543 0.00205164 0.00203942 0.00203005 0.00201643\n",
            " 0.002016   0.00200467 0.00199405 0.00198434 0.00197841 0.0019727\n",
            " 0.00195453 0.00194087 0.0019318  0.00192463 0.00192134 0.00191991\n",
            " 0.00191025 0.00190064 0.00189641 0.00188383 0.00187111 0.00186408]\n"
          ]
        }
      ]
    },
    {
      "cell_type": "markdown",
      "source": [
        "Somos capaces de explicar un 90% de la varianza del dataset reduciendo nuestros atributos de 428.732 a 270. Es prácticamente obligatorio utilizar PCA en este proyecto."
      ],
      "metadata": {
        "id": "cwtROBQVVZjj"
      }
    },
    {
      "cell_type": "code",
      "source": [
        "x_train, x_test, y_train, y_test = train_test_split(X_pca, y_, test_size = 0.2, random_state = 0)"
      ],
      "metadata": {
        "id": "mP2W2CUehfrg"
      },
      "execution_count": null,
      "outputs": []
    },
    {
      "cell_type": "markdown",
      "source": [
        "Una vez tenemos los datos en una forma correcta, vamos a realizar varias formas de solucionar nuestro proyecto y finalmente seleccionaremos el que mejores resultados nos proporcione para después optimizarlo.\n",
        "\n",
        "* OneVsRestClassifier"
      ],
      "metadata": {
        "id": "LCTf_a_eLgHb"
      }
    },
    {
      "cell_type": "markdown",
      "source": [
        "## OneVsRestClassifier"
      ],
      "metadata": {
        "id": "4fHsqM8dg-40"
      }
    },
    {
      "cell_type": "code",
      "source": [
        "def j_score(y_true, y_pred):\n",
        "    jaccard = np.minimum(y_true, y_pred).sum(axis = 1)/np.maximum(y_true, y_pred).sum(axis = 1)\n",
        "    return jaccard.mean()*100"
      ],
      "metadata": {
        "id": "F8dnmZT0TZjZ"
      },
      "execution_count": null,
      "outputs": []
    },
    {
      "cell_type": "code",
      "source": [
        "lr = LogisticRegression(solver='lbfgs')\n",
        "clf = OneVsRestClassifier(lr)\n",
        "clf.fit(x_train, y_train)"
      ],
      "metadata": {
        "colab": {
          "base_uri": "https://localhost:8080/"
        },
        "id": "7uUwQRCXiJ_A",
        "outputId": "39e69286-fdda-4346-f8c4-6b8c1019484b"
      },
      "execution_count": null,
      "outputs": [
        {
          "output_type": "execute_result",
          "data": {
            "text/plain": [
              "OneVsRestClassifier(estimator=LogisticRegression())"
            ]
          },
          "metadata": {},
          "execution_count": 16
        }
      ]
    },
    {
      "cell_type": "code",
      "source": [
        "y_pred = clf.predict(x_test)\n",
        "j_score(y_test, y_pred)"
      ],
      "metadata": {
        "colab": {
          "base_uri": "https://localhost:8080/"
        },
        "id": "kbM1MgVGiWKb",
        "outputId": "fc72af8e-5ea5-455b-b371-f1321fcf035e"
      },
      "execution_count": null,
      "outputs": [
        {
          "output_type": "execute_result",
          "data": {
            "text/plain": [
              "3.3783783783783785"
            ]
          },
          "metadata": {},
          "execution_count": 17
        }
      ]
    },
    {
      "cell_type": "markdown",
      "source": [
        "## SVM"
      ],
      "metadata": {
        "id": "f658q22kGreH"
      }
    },
    {
      "cell_type": "code",
      "source": [
        "from sklearn.svm import LinearSVC\n",
        "svm = LinearSVC(C = 1.5, penalty='l1', dual = False)\n",
        "clf = OneVsRestClassifier(svm)\n",
        "clf.fit(x_train, y_train)\n",
        "y_pred = clf.predict(x_test)\n",
        "j_score(y_test, y_pred)"
      ],
      "metadata": {
        "colab": {
          "base_uri": "https://localhost:8080/"
        },
        "id": "Cj4LmjV_im1B",
        "outputId": "bf546e74-ae65-43bb-e504-a678c77f20f6"
      },
      "execution_count": null,
      "outputs": [
        {
          "output_type": "execute_result",
          "data": {
            "text/plain": [
              "39.86486486486486"
            ]
          },
          "metadata": {},
          "execution_count": 18
        }
      ]
    },
    {
      "cell_type": "markdown",
      "source": [
        "## Random Forest"
      ],
      "metadata": {
        "id": "iawVPEdnLfN-"
      }
    },
    {
      "cell_type": "code",
      "source": [
        "model = RandomForestClassifier()\n",
        "model.fit(x_train,y_train)\n",
        "prediction_forest = model.predict(x_test)"
      ],
      "metadata": {
        "id": "LAfALyXQIQ1M"
      },
      "execution_count": null,
      "outputs": []
    },
    {
      "cell_type": "code",
      "source": [
        "report = classification_report(y_test, prediction_forest)\n",
        "print(report)"
      ],
      "metadata": {
        "colab": {
          "base_uri": "https://localhost:8080/"
        },
        "id": "iZ0Ec6WjJHXM",
        "outputId": "7a067c72-a35c-404d-e283-4acb1cd50d25"
      },
      "execution_count": null,
      "outputs": [
        {
          "output_type": "stream",
          "name": "stdout",
          "text": [
            "              precision    recall  f1-score   support\n",
            "\n",
            "           0       1.00      0.30      0.46        10\n",
            "           1       0.86      0.55      0.67        11\n",
            "           2       1.00      0.36      0.53        14\n",
            "           3       1.00      0.12      0.21        17\n",
            "           4       1.00      0.25      0.40        20\n",
            "           5       1.00      0.31      0.47        13\n",
            "           6       1.00      0.10      0.18        10\n",
            "           7       0.00      0.00      0.00         7\n",
            "\n",
            "   micro avg       0.96      0.25      0.40       102\n",
            "   macro avg       0.86      0.25      0.36       102\n",
            "weighted avg       0.92      0.25      0.38       102\n",
            " samples avg       0.22      0.20      0.21       102\n",
            "\n"
          ]
        },
        {
          "output_type": "stream",
          "name": "stderr",
          "text": [
            "/usr/local/lib/python3.7/dist-packages/sklearn/metrics/_classification.py:1318: UndefinedMetricWarning: Precision and F-score are ill-defined and being set to 0.0 in labels with no predicted samples. Use `zero_division` parameter to control this behavior.\n",
            "  _warn_prf(average, modifier, msg_start, len(result))\n",
            "/usr/local/lib/python3.7/dist-packages/sklearn/metrics/_classification.py:1318: UndefinedMetricWarning: Precision and F-score are ill-defined and being set to 0.0 in samples with no predicted labels. Use `zero_division` parameter to control this behavior.\n",
            "  _warn_prf(average, modifier, msg_start, len(result))\n"
          ]
        }
      ]
    },
    {
      "cell_type": "code",
      "source": [
        "y_pred = model.predict(x_test)\n",
        "j_score(y_test, y_pred)"
      ],
      "metadata": {
        "colab": {
          "base_uri": "https://localhost:8080/"
        },
        "id": "ff37OgdoMC6O",
        "outputId": "63cd0864-b66b-4f6e-9c52-a16aefa1871c"
      },
      "execution_count": null,
      "outputs": [
        {
          "output_type": "execute_result",
          "data": {
            "text/plain": [
              "20.045045045045043"
            ]
          },
          "metadata": {},
          "execution_count": 21
        }
      ]
    },
    {
      "cell_type": "markdown",
      "source": [
        "## KNN"
      ],
      "metadata": {
        "id": "xUug_h32MVs7"
      }
    },
    {
      "cell_type": "code",
      "source": [
        "knn=KNeighborsClassifier()\n",
        "knn.fit(x_train,y_train)\n",
        "y_pred = knn.predict(x_test)\n",
        "j_score(y_test, y_pred)"
      ],
      "metadata": {
        "colab": {
          "base_uri": "https://localhost:8080/"
        },
        "id": "81nFCLF1MUAv",
        "outputId": "7fd5f571-3a8d-45c6-e0c4-a3980980a32f"
      },
      "execution_count": null,
      "outputs": [
        {
          "output_type": "execute_result",
          "data": {
            "text/plain": [
              "8.108108108108109"
            ]
          },
          "metadata": {},
          "execution_count": 22
        }
      ]
    },
    {
      "cell_type": "markdown",
      "source": [
        "# Word2vec"
      ],
      "metadata": {
        "id": "aKtMPy0MI2MR"
      }
    },
    {
      "cell_type": "code",
      "source": [
        "data.head()"
      ],
      "metadata": {
        "colab": {
          "base_uri": "https://localhost:8080/",
          "height": 206
        },
        "id": "l84BiPWqI52l",
        "outputId": "1eb07539-4d4d-49a3-afb6-9b49acba4955"
      },
      "execution_count": null,
      "outputs": [
        {
          "output_type": "execute_result",
          "data": {
            "text/plain": [
              "                                                text target\n",
              "0  project gutenberg ebook told colonel william l...    [0]\n",
              "1  project gutenberg ebook joe carsons weapon jam...  [0,3]\n",
              "2  project gutenberg ebook john henry smith frede...    [0]\n",
              "3  project gutenberg ebook motor matts race stanl...    [4]\n",
              "4  project gutenbergs journey centre earth jules ...  [3,4]"
            ],
            "text/html": [
              "\n",
              "  <div id=\"df-ebb209be-ce01-43db-ac3c-7ef6eaaf4079\">\n",
              "    <div class=\"colab-df-container\">\n",
              "      <div>\n",
              "<style scoped>\n",
              "    .dataframe tbody tr th:only-of-type {\n",
              "        vertical-align: middle;\n",
              "    }\n",
              "\n",
              "    .dataframe tbody tr th {\n",
              "        vertical-align: top;\n",
              "    }\n",
              "\n",
              "    .dataframe thead th {\n",
              "        text-align: right;\n",
              "    }\n",
              "</style>\n",
              "<table border=\"1\" class=\"dataframe\">\n",
              "  <thead>\n",
              "    <tr style=\"text-align: right;\">\n",
              "      <th></th>\n",
              "      <th>text</th>\n",
              "      <th>target</th>\n",
              "    </tr>\n",
              "  </thead>\n",
              "  <tbody>\n",
              "    <tr>\n",
              "      <th>0</th>\n",
              "      <td>project gutenberg ebook told colonel william l...</td>\n",
              "      <td>[0]</td>\n",
              "    </tr>\n",
              "    <tr>\n",
              "      <th>1</th>\n",
              "      <td>project gutenberg ebook joe carsons weapon jam...</td>\n",
              "      <td>[0,3]</td>\n",
              "    </tr>\n",
              "    <tr>\n",
              "      <th>2</th>\n",
              "      <td>project gutenberg ebook john henry smith frede...</td>\n",
              "      <td>[0]</td>\n",
              "    </tr>\n",
              "    <tr>\n",
              "      <th>3</th>\n",
              "      <td>project gutenberg ebook motor matts race stanl...</td>\n",
              "      <td>[4]</td>\n",
              "    </tr>\n",
              "    <tr>\n",
              "      <th>4</th>\n",
              "      <td>project gutenbergs journey centre earth jules ...</td>\n",
              "      <td>[3,4]</td>\n",
              "    </tr>\n",
              "  </tbody>\n",
              "</table>\n",
              "</div>\n",
              "      <button class=\"colab-df-convert\" onclick=\"convertToInteractive('df-ebb209be-ce01-43db-ac3c-7ef6eaaf4079')\"\n",
              "              title=\"Convert this dataframe to an interactive table.\"\n",
              "              style=\"display:none;\">\n",
              "        \n",
              "  <svg xmlns=\"http://www.w3.org/2000/svg\" height=\"24px\"viewBox=\"0 0 24 24\"\n",
              "       width=\"24px\">\n",
              "    <path d=\"M0 0h24v24H0V0z\" fill=\"none\"/>\n",
              "    <path d=\"M18.56 5.44l.94 2.06.94-2.06 2.06-.94-2.06-.94-.94-2.06-.94 2.06-2.06.94zm-11 1L8.5 8.5l.94-2.06 2.06-.94-2.06-.94L8.5 2.5l-.94 2.06-2.06.94zm10 10l.94 2.06.94-2.06 2.06-.94-2.06-.94-.94-2.06-.94 2.06-2.06.94z\"/><path d=\"M17.41 7.96l-1.37-1.37c-.4-.4-.92-.59-1.43-.59-.52 0-1.04.2-1.43.59L10.3 9.45l-7.72 7.72c-.78.78-.78 2.05 0 2.83L4 21.41c.39.39.9.59 1.41.59.51 0 1.02-.2 1.41-.59l7.78-7.78 2.81-2.81c.8-.78.8-2.07 0-2.86zM5.41 20L4 18.59l7.72-7.72 1.47 1.35L5.41 20z\"/>\n",
              "  </svg>\n",
              "      </button>\n",
              "      \n",
              "  <style>\n",
              "    .colab-df-container {\n",
              "      display:flex;\n",
              "      flex-wrap:wrap;\n",
              "      gap: 12px;\n",
              "    }\n",
              "\n",
              "    .colab-df-convert {\n",
              "      background-color: #E8F0FE;\n",
              "      border: none;\n",
              "      border-radius: 50%;\n",
              "      cursor: pointer;\n",
              "      display: none;\n",
              "      fill: #1967D2;\n",
              "      height: 32px;\n",
              "      padding: 0 0 0 0;\n",
              "      width: 32px;\n",
              "    }\n",
              "\n",
              "    .colab-df-convert:hover {\n",
              "      background-color: #E2EBFA;\n",
              "      box-shadow: 0px 1px 2px rgba(60, 64, 67, 0.3), 0px 1px 3px 1px rgba(60, 64, 67, 0.15);\n",
              "      fill: #174EA6;\n",
              "    }\n",
              "\n",
              "    [theme=dark] .colab-df-convert {\n",
              "      background-color: #3B4455;\n",
              "      fill: #D2E3FC;\n",
              "    }\n",
              "\n",
              "    [theme=dark] .colab-df-convert:hover {\n",
              "      background-color: #434B5C;\n",
              "      box-shadow: 0px 1px 3px 1px rgba(0, 0, 0, 0.15);\n",
              "      filter: drop-shadow(0px 1px 2px rgba(0, 0, 0, 0.3));\n",
              "      fill: #FFFFFF;\n",
              "    }\n",
              "  </style>\n",
              "\n",
              "      <script>\n",
              "        const buttonEl =\n",
              "          document.querySelector('#df-ebb209be-ce01-43db-ac3c-7ef6eaaf4079 button.colab-df-convert');\n",
              "        buttonEl.style.display =\n",
              "          google.colab.kernel.accessAllowed ? 'block' : 'none';\n",
              "\n",
              "        async function convertToInteractive(key) {\n",
              "          const element = document.querySelector('#df-ebb209be-ce01-43db-ac3c-7ef6eaaf4079');\n",
              "          const dataTable =\n",
              "            await google.colab.kernel.invokeFunction('convertToInteractive',\n",
              "                                                     [key], {});\n",
              "          if (!dataTable) return;\n",
              "\n",
              "          const docLinkHtml = 'Like what you see? Visit the ' +\n",
              "            '<a target=\"_blank\" href=https://colab.research.google.com/notebooks/data_table.ipynb>data table notebook</a>'\n",
              "            + ' to learn more about interactive tables.';\n",
              "          element.innerHTML = '';\n",
              "          dataTable['output_type'] = 'display_data';\n",
              "          await google.colab.output.renderOutput(dataTable, element);\n",
              "          const docLink = document.createElement('div');\n",
              "          docLink.innerHTML = docLinkHtml;\n",
              "          element.appendChild(docLink);\n",
              "        }\n",
              "      </script>\n",
              "    </div>\n",
              "  </div>\n",
              "  "
            ]
          },
          "metadata": {},
          "execution_count": 23
        }
      ]
    },
    {
      "cell_type": "code",
      "source": [
        "nlp = spacy.load('en_core_web_lg')"
      ],
      "metadata": {
        "id": "_iMkRvG_nQ3O"
      },
      "execution_count": null,
      "outputs": []
    },
    {
      "cell_type": "code",
      "source": [
        "def get_vec(x):\n",
        "    doc = nlp(x)\n",
        "    vec = doc.vector\n",
        "    return vec"
      ],
      "metadata": {
        "id": "o1jyuHuJnq5V"
      },
      "execution_count": null,
      "outputs": []
    },
    {
      "cell_type": "code",
      "source": [
        "#df['vectors'] = df['text'].apply(lambda x: get_vec(x))"
      ],
      "metadata": {
        "id": "YMxZ8ouqoPKj"
      },
      "execution_count": null,
      "outputs": []
    },
    {
      "cell_type": "markdown",
      "source": [
        "Por el momento no podemos utilizar word2vec, pues se trata de textos demasiado largos y superamos le limite permitido por el algoritmo.\n",
        "Por lo que seguiremos investigando otra cosa"
      ],
      "metadata": {
        "id": "HgSHRdVbpE_V"
      }
    },
    {
      "cell_type": "markdown",
      "source": [
        "# Optimización de SVC\n",
        "Tras probar varios métodos y ver diferentes técnicas que realmente no se pueden aplicar a nuestro caso al ser textos demasiado grandes. Hemos optado por quedarnos con SVM. Por lo que, vamos a optimizar nuestro modelo."
      ],
      "metadata": {
        "id": "qEV58dylvANx"
      }
    },
    {
      "cell_type": "markdown",
      "source": [
        "## Paso 1: Optimización de TFIDF()\n",
        "En primer lugar vamos a optimizar el tfidf y luego seguiremos con nuestro Linear SVC, ya habiendole aplicado a esta optimización PCA."
      ],
      "metadata": {
        "id": "9ZsnPt_1kDhd"
      }
    },
    {
      "cell_type": "code",
      "source": [
        "x_train, x_test, y_train, y_test = train_test_split(data[\"text\"], y_, test_size = 0.2, random_state = 0)"
      ],
      "metadata": {
        "id": "biPFvVjNzgjD"
      },
      "execution_count": null,
      "outputs": []
    },
    {
      "cell_type": "code",
      "source": [
        "pipe = Pipeline([\n",
        "    ('tfidf', TfidfVectorizer()),\n",
        "    ('svm', OneVsRestClassifier(LinearSVC(C=1.5, penalty='l1',dual=False)))\n",
        "])"
      ],
      "metadata": {
        "id": "DkW8Hn3BoRiF"
      },
      "execution_count": null,
      "outputs": []
    },
    {
      "cell_type": "code",
      "source": [
        "hyperparameters = {\n",
        "     'tfidf__max_df': (0.5, 1.0),\n",
        "     'tfidf__ngram_range': ((1,1), (1,2)),\n",
        "     'tfidf__use_idf': (True, False),\n",
        "     'tfidf__analyzer': ('word', 'char', 'char_wb')\n",
        "}"
      ],
      "metadata": {
        "id": "VHk56582wnjQ"
      },
      "execution_count": null,
      "outputs": []
    },
    {
      "cell_type": "code",
      "source": [
        "clf = GridSearchCV(pipe, hyperparameters, cv = 5)"
      ],
      "metadata": {
        "id": "YzV5qQnfyUuz"
      },
      "execution_count": null,
      "outputs": []
    },
    {
      "cell_type": "code",
      "source": [
        "clf.fit(x_train, y_train)"
      ],
      "metadata": {
        "id": "-prJBpRhyZnG"
      },
      "execution_count": null,
      "outputs": []
    },
    {
      "cell_type": "code",
      "source": [
        "clf.best_estimator_"
      ],
      "metadata": {
        "id": "eSMXDGc-ybOc",
        "colab": {
          "base_uri": "https://localhost:8080/"
        },
        "outputId": "6ea4fd1b-51da-4190-d707-3aa3134544e0"
      },
      "execution_count": null,
      "outputs": [
        {
          "output_type": "execute_result",
          "data": {
            "text/plain": [
              "Pipeline(steps=[('tfidf', TfidfVectorizer(use_idf=False)),\n",
              "                ('svm',\n",
              "                 OneVsRestClassifier(estimator=LinearSVC(C=1.5, dual=False,\n",
              "                                                         penalty='l1')))])"
            ]
          },
          "metadata": {},
          "execution_count": 32
        }
      ]
    },
    {
      "cell_type": "code",
      "source": [
        "clf.best_params_"
      ],
      "metadata": {
        "id": "xgi2b-m7ycfs",
        "colab": {
          "base_uri": "https://localhost:8080/"
        },
        "outputId": "79565565-e984-4c49-8ac8-4c7559eee5bf"
      },
      "execution_count": null,
      "outputs": [
        {
          "output_type": "execute_result",
          "data": {
            "text/plain": [
              "{'tfidf__analyzer': 'word',\n",
              " 'tfidf__max_df': 1.0,\n",
              " 'tfidf__ngram_range': (1, 1),\n",
              " 'tfidf__use_idf': False}"
            ]
          },
          "metadata": {},
          "execution_count": 33
        }
      ]
    },
    {
      "cell_type": "code",
      "source": [
        "clf.best_score_"
      ],
      "metadata": {
        "id": "pLOxhsxRyhFi",
        "colab": {
          "base_uri": "https://localhost:8080/"
        },
        "outputId": "3f363931-61c1-449e-e14d-1e137369a3ee"
      },
      "execution_count": null,
      "outputs": [
        {
          "output_type": "execute_result",
          "data": {
            "text/plain": [
              "0.18926553672316385"
            ]
          },
          "metadata": {},
          "execution_count": 34
        }
      ]
    },
    {
      "cell_type": "code",
      "source": [
        "pkl.dump(clf, open('/content/drive/MyDrive/libros/model_libros.pkl', 'wb'))"
      ],
      "metadata": {
        "id": "J13ubtG1ynyh"
      },
      "execution_count": null,
      "outputs": []
    },
    {
      "cell_type": "code",
      "source": [
        "y_pred=clf.predict(x_test)\n",
        "j_score(y_test, y_pred)"
      ],
      "metadata": {
        "id": "LR9KLSrozrcw",
        "colab": {
          "base_uri": "https://localhost:8080/"
        },
        "outputId": "07f0920b-9187-48a9-826f-cbea314bde4e"
      },
      "execution_count": null,
      "outputs": [
        {
          "output_type": "execute_result",
          "data": {
            "text/plain": [
              "37.61261261261261"
            ]
          },
          "metadata": {},
          "execution_count": 37
        }
      ]
    },
    {
      "cell_type": "markdown",
      "source": [
        "## Paso 2: Aplicación de TFIDF y PCA\n",
        "Una vez aquí, vamos a aplicar a nuestros datos en crudo, TFIDF y luego usaremos la mejor versión de PCA, antes de aplicar la optimización de SVM."
      ],
      "metadata": {
        "id": "1uLCqmaGrth1"
      }
    },
    {
      "cell_type": "code",
      "source": [
        "data_x=data[\"text\"]\n",
        "data_y=y_"
      ],
      "metadata": {
        "id": "k551WzQvrFmh"
      },
      "execution_count": null,
      "outputs": []
    },
    {
      "cell_type": "code",
      "source": [
        "# Aplicamos TFIDF con los parámetros que obtuvimos de la optimización previa.\n",
        "tfidf=TfidfVectorizer(analyzer=\"word\", max_df=1.0, ngram_range=(1,1), use_idf=False)\n",
        "data_x=tfidf.fit_transform(data_x)\n",
        "\n",
        "print(\"shape of x\", data_x.shape)\n",
        "print(\"shape of y\", data_y.shape)"
      ],
      "metadata": {
        "colab": {
          "base_uri": "https://localhost:8080/"
        },
        "id": "ELhv2pR-v4SV",
        "outputId": "8a78b801-827e-4fe8-9d53-5d9a8019b620"
      },
      "execution_count": null,
      "outputs": [
        {
          "output_type": "stream",
          "name": "stdout",
          "text": [
            "shape of x (370, 428732)\n",
            "shape of y (370, 8)\n"
          ]
        }
      ]
    },
    {
      "cell_type": "code",
      "source": [
        "# APLICACIÓN DE PCA\n",
        "data_x_array=data_x.toarray()\n",
        "data_x_pca=pd.DataFrame(data_x_array)\n",
        "# Como se vió al principio aplicaremos una varianza explicativa del 90%\n",
        "min_var = 0.9\n",
        "pca_var= PCA(n_components=min_var, svd_solver='full')\n",
        "\n",
        "X_pca = pca_var.fit_transform(data_x_pca)\n",
        "\n",
        "pca_var= PCA(n_components=min_var, svd_solver='full')\n",
        "\n",
        "X_pca2 = pca_var.fit(data_x_pca)\n",
        "\n",
        "print('Nº de componentes:', len(X_pca2.components_))\n",
        "print('Ratio de varianza explicada:')\n",
        "print(X_pca2.explained_variance_ratio_)"
      ],
      "metadata": {
        "colab": {
          "base_uri": "https://localhost:8080/"
        },
        "id": "9-oBCwulwFyN",
        "outputId": "380d24b9-8656-4b8c-f3bb-dd0e8d5589ec"
      },
      "execution_count": null,
      "outputs": [
        {
          "output_type": "stream",
          "name": "stdout",
          "text": [
            "Nº de componentes: 220\n",
            "Ratio de varianza explicada:\n",
            "[0.1413853  0.04316516 0.04034279 0.02607837 0.02447925 0.01744034\n",
            " 0.01629088 0.01433617 0.01231211 0.01186816 0.00993669 0.00948618\n",
            " 0.00847198 0.00840352 0.00810006 0.00789272 0.00729348 0.00701183\n",
            " 0.00663332 0.00607232 0.00600391 0.00584406 0.00576609 0.00560865\n",
            " 0.00534868 0.00530455 0.00519995 0.00509313 0.0049705  0.00486676\n",
            " 0.00476702 0.0046979  0.00456548 0.00446508 0.00437419 0.00434308\n",
            " 0.00428057 0.00423406 0.00420833 0.00413981 0.00400939 0.00395596\n",
            " 0.00389156 0.00388216 0.00377178 0.00373012 0.00367991 0.00365872\n",
            " 0.00359095 0.00350131 0.00344499 0.0033955  0.00332709 0.00329398\n",
            " 0.00328122 0.00325171 0.00321473 0.00319769 0.00316785 0.00313389\n",
            " 0.00311213 0.00309338 0.0030485  0.00304224 0.00298777 0.00297695\n",
            " 0.00295325 0.00293188 0.00292137 0.00286193 0.00283434 0.00280564\n",
            " 0.00276308 0.00274382 0.0027413  0.00271652 0.00268423 0.00268328\n",
            " 0.0026657  0.0026476  0.00262001 0.00260329 0.00257808 0.00256038\n",
            " 0.00255025 0.00252235 0.00251031 0.002493   0.00248305 0.00246717\n",
            " 0.00244861 0.00241085 0.00240208 0.00238863 0.00238234 0.00236376\n",
            " 0.00235288 0.00233125 0.00231863 0.00229718 0.00228619 0.0022723\n",
            " 0.00226051 0.00224869 0.002241   0.00222204 0.00221019 0.00219799\n",
            " 0.00216889 0.00215298 0.0021424  0.00213378 0.00212206 0.00209878\n",
            " 0.00209135 0.00207102 0.00206562 0.00204089 0.00203872 0.00202733\n",
            " 0.00201972 0.00200806 0.00199961 0.00199181 0.00198461 0.00197581\n",
            " 0.0019613  0.00194549 0.00194402 0.00192421 0.00191251 0.00190547\n",
            " 0.00187935 0.00187457 0.00186884 0.00185085 0.00184889 0.00183932\n",
            " 0.0018205  0.00181316 0.00179861 0.0017902  0.00178042 0.00176366\n",
            " 0.00175346 0.0017432  0.0017347  0.00173152 0.00171574 0.00171025\n",
            " 0.00169723 0.00169112 0.00167957 0.00167094 0.00166143 0.00165865\n",
            " 0.00164661 0.00163935 0.00163086 0.00161948 0.0016148  0.00160566\n",
            " 0.00160085 0.0015963  0.00159281 0.00158301 0.0015764  0.00157045\n",
            " 0.00155994 0.00154317 0.00154022 0.00153342 0.00152593 0.00151763\n",
            " 0.0015093  0.00149747 0.00149119 0.00148433 0.00147621 0.00147154\n",
            " 0.00145765 0.00144498 0.00143851 0.00143267 0.00142848 0.00141956\n",
            " 0.00141223 0.00140319 0.001397   0.00139463 0.00138736 0.00137959\n",
            " 0.00136776 0.00135844 0.00135522 0.00134821 0.00134554 0.00134361\n",
            " 0.00133806 0.00132849 0.00131933 0.00131845 0.00131359 0.00130571\n",
            " 0.00130019 0.00128788 0.00128202 0.00127114 0.00126885 0.00126378\n",
            " 0.00125406 0.00124482 0.00123491 0.0012284  0.00122665 0.00122177\n",
            " 0.00121392 0.00120657 0.00120342 0.00119349]\n"
          ]
        }
      ]
    },
    {
      "cell_type": "markdown",
      "source": [
        "## Optimización del Linear SVC"
      ],
      "metadata": {
        "id": "NbJkNF08yf05"
      }
    },
    {
      "cell_type": "code",
      "source": [
        "x_train, x_test, y_train, y_test = train_test_split(X_pca, data_y, test_size = 0.2, random_state = 0)"
      ],
      "metadata": {
        "id": "yulbbgweyAPP"
      },
      "execution_count": null,
      "outputs": []
    },
    {
      "cell_type": "code",
      "source": [
        "model = OneVsRestClassifier(estimator=LinearSVC(dual=False), n_jobs=-1)\n",
        "\n",
        "hyperparameters = {\n",
        "     'estimator__penalty': [\"l1\",\"l2\"],\n",
        "     'estimator__C': np.arange(0.01,100,10),\n",
        "     'estimator__loss': [\"hinge\",\"squared_hinge\"],\n",
        "     'estimator__multi_class':[\"ovr\",\"crammer_singer\"]\n",
        "     \n",
        "}\n",
        "\n",
        "clf=GridSearchCV(estimator=model,param_grid= hyperparameters, cv=5)"
      ],
      "metadata": {
        "id": "0cJrB6y1yxbm"
      },
      "execution_count": null,
      "outputs": []
    },
    {
      "cell_type": "code",
      "source": [
        "clf.fit(x_train,y_train)"
      ],
      "metadata": {
        "colab": {
          "base_uri": "https://localhost:8080/"
        },
        "id": "Y-RyB4S42Qi9",
        "outputId": "6bfd57ce-2b3e-4f8b-ac42-aca75115ba7a"
      },
      "execution_count": null,
      "outputs": [
        {
          "output_type": "stream",
          "name": "stderr",
          "text": [
            "/usr/local/lib/python3.7/dist-packages/sklearn/model_selection/_validation.py:372: FitFailedWarning: \n",
            "100 fits failed out of a total of 400.\n",
            "The score on these train-test partitions for these parameters will be set to nan.\n",
            "If these failures are not expected, you can try to debug them by setting error_score='raise'.\n",
            "\n",
            "Below are more details about the failures:\n",
            "--------------------------------------------------------------------------------\n",
            "47 fits failed with the following error:\n",
            "joblib.externals.loky.process_executor._RemoteTraceback: \n",
            "\"\"\"\n",
            "Traceback (most recent call last):\n",
            "  File \"/usr/local/lib/python3.7/dist-packages/joblib/externals/loky/process_executor.py\", line 428, in _process_worker\n",
            "    r = call_item()\n",
            "  File \"/usr/local/lib/python3.7/dist-packages/joblib/externals/loky/process_executor.py\", line 275, in __call__\n",
            "    return self.fn(*self.args, **self.kwargs)\n",
            "  File \"/usr/local/lib/python3.7/dist-packages/joblib/_parallel_backends.py\", line 620, in __call__\n",
            "    return self.func(*args, **kwargs)\n",
            "  File \"/usr/local/lib/python3.7/dist-packages/joblib/parallel.py\", line 289, in __call__\n",
            "    for func, args, kwargs in self.items]\n",
            "  File \"/usr/local/lib/python3.7/dist-packages/joblib/parallel.py\", line 289, in <listcomp>\n",
            "    for func, args, kwargs in self.items]\n",
            "  File \"/usr/local/lib/python3.7/dist-packages/sklearn/utils/fixes.py\", line 216, in __call__\n",
            "    return self.function(*args, **kwargs)\n",
            "  File \"/usr/local/lib/python3.7/dist-packages/sklearn/multiclass.py\", line 85, in _fit_binary\n",
            "    estimator.fit(X, y)\n",
            "  File \"/usr/local/lib/python3.7/dist-packages/sklearn/svm/_classes.py\", line 272, in fit\n",
            "    sample_weight=sample_weight,\n",
            "  File \"/usr/local/lib/python3.7/dist-packages/sklearn/svm/_base.py\", line 1185, in _fit_liblinear\n",
            "    solver_type = _get_liblinear_solver_type(multi_class, penalty, loss, dual)\n",
            "  File \"/usr/local/lib/python3.7/dist-packages/sklearn/svm/_base.py\", line 1026, in _get_liblinear_solver_type\n",
            "    % (error_string, penalty, loss, dual)\n",
            "ValueError: Unsupported set of arguments: The combination of penalty='l1' and loss='hinge' is not supported, Parameters: penalty='l1', loss='hinge', dual=False\n",
            "\"\"\"\n",
            "\n",
            "The above exception was the direct cause of the following exception:\n",
            "\n",
            "Traceback (most recent call last):\n",
            "  File \"/usr/local/lib/python3.7/dist-packages/sklearn/model_selection/_validation.py\", line 680, in _fit_and_score\n",
            "    estimator.fit(X_train, y_train, **fit_params)\n",
            "  File \"/usr/local/lib/python3.7/dist-packages/sklearn/multiclass.py\", line 347, in fit\n",
            "    for i, column in enumerate(columns)\n",
            "  File \"/usr/local/lib/python3.7/dist-packages/joblib/parallel.py\", line 1098, in __call__\n",
            "    self.retrieve()\n",
            "  File \"/usr/local/lib/python3.7/dist-packages/joblib/parallel.py\", line 975, in retrieve\n",
            "    self._output.extend(job.get(timeout=self.timeout))\n",
            "  File \"/usr/local/lib/python3.7/dist-packages/joblib/_parallel_backends.py\", line 567, in wrap_future_result\n",
            "    return future.result(timeout=timeout)\n",
            "  File \"/usr/lib/python3.7/concurrent/futures/_base.py\", line 435, in result\n",
            "    return self.__get_result()\n",
            "  File \"/usr/lib/python3.7/concurrent/futures/_base.py\", line 384, in __get_result\n",
            "    raise self._exception\n",
            "ValueError: Unsupported set of arguments: The combination of penalty='l1' and loss='hinge' is not supported, Parameters: penalty='l1', loss='hinge', dual=False\n",
            "\n",
            "--------------------------------------------------------------------------------\n",
            "50 fits failed with the following error:\n",
            "joblib.externals.loky.process_executor._RemoteTraceback: \n",
            "\"\"\"\n",
            "Traceback (most recent call last):\n",
            "  File \"/usr/local/lib/python3.7/dist-packages/joblib/externals/loky/process_executor.py\", line 428, in _process_worker\n",
            "    r = call_item()\n",
            "  File \"/usr/local/lib/python3.7/dist-packages/joblib/externals/loky/process_executor.py\", line 275, in __call__\n",
            "    return self.fn(*self.args, **self.kwargs)\n",
            "  File \"/usr/local/lib/python3.7/dist-packages/joblib/_parallel_backends.py\", line 620, in __call__\n",
            "    return self.func(*args, **kwargs)\n",
            "  File \"/usr/local/lib/python3.7/dist-packages/joblib/parallel.py\", line 289, in __call__\n",
            "    for func, args, kwargs in self.items]\n",
            "  File \"/usr/local/lib/python3.7/dist-packages/joblib/parallel.py\", line 289, in <listcomp>\n",
            "    for func, args, kwargs in self.items]\n",
            "  File \"/usr/local/lib/python3.7/dist-packages/sklearn/utils/fixes.py\", line 216, in __call__\n",
            "    return self.function(*args, **kwargs)\n",
            "  File \"/usr/local/lib/python3.7/dist-packages/sklearn/multiclass.py\", line 85, in _fit_binary\n",
            "    estimator.fit(X, y)\n",
            "  File \"/usr/local/lib/python3.7/dist-packages/sklearn/svm/_classes.py\", line 272, in fit\n",
            "    sample_weight=sample_weight,\n",
            "  File \"/usr/local/lib/python3.7/dist-packages/sklearn/svm/_base.py\", line 1185, in _fit_liblinear\n",
            "    solver_type = _get_liblinear_solver_type(multi_class, penalty, loss, dual)\n",
            "  File \"/usr/local/lib/python3.7/dist-packages/sklearn/svm/_base.py\", line 1026, in _get_liblinear_solver_type\n",
            "    % (error_string, penalty, loss, dual)\n",
            "ValueError: Unsupported set of arguments: The combination of penalty='l2' and loss='hinge' are not supported when dual=False, Parameters: penalty='l2', loss='hinge', dual=False\n",
            "\"\"\"\n",
            "\n",
            "The above exception was the direct cause of the following exception:\n",
            "\n",
            "Traceback (most recent call last):\n",
            "  File \"/usr/local/lib/python3.7/dist-packages/sklearn/model_selection/_validation.py\", line 680, in _fit_and_score\n",
            "    estimator.fit(X_train, y_train, **fit_params)\n",
            "  File \"/usr/local/lib/python3.7/dist-packages/sklearn/multiclass.py\", line 347, in fit\n",
            "    for i, column in enumerate(columns)\n",
            "  File \"/usr/local/lib/python3.7/dist-packages/joblib/parallel.py\", line 1098, in __call__\n",
            "    self.retrieve()\n",
            "  File \"/usr/local/lib/python3.7/dist-packages/joblib/parallel.py\", line 975, in retrieve\n",
            "    self._output.extend(job.get(timeout=self.timeout))\n",
            "  File \"/usr/local/lib/python3.7/dist-packages/joblib/_parallel_backends.py\", line 567, in wrap_future_result\n",
            "    return future.result(timeout=timeout)\n",
            "  File \"/usr/lib/python3.7/concurrent/futures/_base.py\", line 435, in result\n",
            "    return self.__get_result()\n",
            "  File \"/usr/lib/python3.7/concurrent/futures/_base.py\", line 384, in __get_result\n",
            "    raise self._exception\n",
            "ValueError: Unsupported set of arguments: The combination of penalty='l2' and loss='hinge' are not supported when dual=False, Parameters: penalty='l2', loss='hinge', dual=False\n",
            "\n",
            "--------------------------------------------------------------------------------\n",
            "3 fits failed with the following error:\n",
            "joblib.externals.loky.process_executor._RemoteTraceback: \n",
            "\"\"\"\n",
            "Traceback (most recent call last):\n",
            "  File \"/usr/local/lib/python3.7/dist-packages/joblib/externals/loky/process_executor.py\", line 428, in _process_worker\n",
            "    r = call_item()\n",
            "  File \"/usr/local/lib/python3.7/dist-packages/joblib/externals/loky/process_executor.py\", line 275, in __call__\n",
            "    return self.fn(*self.args, **self.kwargs)\n",
            "  File \"/usr/local/lib/python3.7/dist-packages/joblib/_parallel_backends.py\", line 620, in __call__\n",
            "    return self.func(*args, **kwargs)\n",
            "  File \"/usr/local/lib/python3.7/dist-packages/joblib/parallel.py\", line 289, in __call__\n",
            "    for func, args, kwargs in self.items]\n",
            "  File \"/usr/local/lib/python3.7/dist-packages/joblib/parallel.py\", line 289, in <listcomp>\n",
            "    for func, args, kwargs in self.items]\n",
            "  File \"/usr/local/lib/python3.7/dist-packages/sklearn/utils/fixes.py\", line 216, in __call__\n",
            "    return self.function(*args, **kwargs)\n",
            "  File \"/usr/local/lib/python3.7/dist-packages/sklearn/multiclass.py\", line 85, in _fit_binary\n",
            "    estimator.fit(X, y)\n",
            "  File \"/usr/local/lib/python3.7/dist-packages/sklearn/svm/_classes.py\", line 272, in fit\n",
            "    sample_weight=sample_weight,\n",
            "  File \"/usr/local/lib/python3.7/dist-packages/sklearn/svm/_base.py\", line 1185, in _fit_liblinear\n",
            "    solver_type = _get_liblinear_solver_type(multi_class, penalty, loss, dual)\n",
            "  File \"/usr/local/lib/python3.7/dist-packages/sklearn/svm/_base.py\", line 1026, in _get_liblinear_solver_type\n",
            "    % (error_string, penalty, loss, dual)\n",
            "ValueError: Unsupported set of arguments: The combination of penalty='l1' and loss='hinge' is not supported, Parameters: penalty='l1', loss='hinge', dual=False\n",
            "\"\"\"\n",
            "\n",
            "The above exception was the direct cause of the following exception:\n",
            "\n",
            "Traceback (most recent call last):\n",
            "  File \"/usr/local/lib/python3.7/dist-packages/sklearn/model_selection/_validation.py\", line 680, in _fit_and_score\n",
            "    estimator.fit(X_train, y_train, **fit_params)\n",
            "  File \"/usr/local/lib/python3.7/dist-packages/sklearn/multiclass.py\", line 347, in fit\n",
            "    for i, column in enumerate(columns)\n",
            "  File \"/usr/local/lib/python3.7/dist-packages/joblib/parallel.py\", line 1098, in __call__\n",
            "    self.retrieve()\n",
            "  File \"/usr/local/lib/python3.7/dist-packages/joblib/parallel.py\", line 975, in retrieve\n",
            "    self._output.extend(job.get(timeout=self.timeout))\n",
            "  File \"/usr/local/lib/python3.7/dist-packages/joblib/_parallel_backends.py\", line 567, in wrap_future_result\n",
            "    return future.result(timeout=timeout)\n",
            "  File \"/usr/lib/python3.7/concurrent/futures/_base.py\", line 428, in result\n",
            "    return self.__get_result()\n",
            "  File \"/usr/lib/python3.7/concurrent/futures/_base.py\", line 384, in __get_result\n",
            "    raise self._exception\n",
            "ValueError: Unsupported set of arguments: The combination of penalty='l1' and loss='hinge' is not supported, Parameters: penalty='l1', loss='hinge', dual=False\n",
            "\n",
            "  warnings.warn(some_fits_failed_message, FitFailedWarning)\n",
            "/usr/local/lib/python3.7/dist-packages/sklearn/model_selection/_search.py:972: UserWarning: One or more of the test scores are non-finite: [       nan        nan 0.         0.         0.         0.\n",
            " 0.         0.                nan        nan 0.30745763 0.30745763\n",
            " 0.31440678 0.34463277 0.30745763 0.30745763        nan        nan\n",
            " 0.31768362 0.31768362 0.30423729 0.33446328 0.31768362 0.31768362\n",
            "        nan        nan 0.30751412 0.30751412 0.29762712 0.34124294\n",
            " 0.30751412 0.30751412        nan        nan 0.30084746 0.30084746\n",
            " 0.28734463 0.34129944 0.30084746 0.30084746        nan        nan\n",
            " 0.30079096 0.30079096 0.28412429 0.33118644 0.30079096 0.30079096\n",
            "        nan        nan 0.30079096 0.30079096 0.2740113  0.33112994\n",
            " 0.30079096 0.30079096        nan        nan 0.29745763 0.29745763\n",
            " 0.26039548 0.33118644 0.29745763 0.29745763        nan        nan\n",
            " 0.29412429 0.29412429 0.26372881 0.33124294 0.29412429 0.29412429\n",
            "        nan        nan 0.28728814 0.28728814 0.24700565 0.3279096\n",
            " 0.28728814 0.28728814]\n",
            "  category=UserWarning,\n"
          ]
        },
        {
          "output_type": "execute_result",
          "data": {
            "text/plain": [
              "GridSearchCV(cv=5,\n",
              "             estimator=OneVsRestClassifier(estimator=LinearSVC(dual=False),\n",
              "                                           n_jobs=-1),\n",
              "             param_grid={'estimator__C': array([1.000e-02, 1.001e+01, 2.001e+01, 3.001e+01, 4.001e+01, 5.001e+01,\n",
              "       6.001e+01, 7.001e+01, 8.001e+01, 9.001e+01]),\n",
              "                         'estimator__loss': ['hinge', 'squared_hinge'],\n",
              "                         'estimator__multi_class': ['ovr', 'crammer_singer'],\n",
              "                         'estimator__penalty': ['l1', 'l2']})"
            ]
          },
          "metadata": {},
          "execution_count": 69
        }
      ]
    },
    {
      "cell_type": "code",
      "source": [
        "clf.best_estimator_"
      ],
      "metadata": {
        "colab": {
          "base_uri": "https://localhost:8080/"
        },
        "id": "k2QjrSH-2UCF",
        "outputId": "b7407078-9a49-424a-a276-3607058d76c1"
      },
      "execution_count": null,
      "outputs": [
        {
          "output_type": "execute_result",
          "data": {
            "text/plain": [
              "OneVsRestClassifier(estimator=LinearSVC(C=2.5, dual=False, loss='hinge',\n",
              "                                        multi_class='crammer_singer',\n",
              "                                        penalty='l1'),\n",
              "                    n_jobs=-1)"
            ]
          },
          "metadata": {},
          "execution_count": 63
        }
      ]
    },
    {
      "cell_type": "code",
      "source": [
        "clf.best_params_"
      ],
      "metadata": {
        "colab": {
          "base_uri": "https://localhost:8080/"
        },
        "id": "AkijM1XN2UUq",
        "outputId": "3a4adaca-4f7e-4480-e47b-927a9100e365"
      },
      "execution_count": null,
      "outputs": [
        {
          "output_type": "execute_result",
          "data": {
            "text/plain": [
              "{'estimator__C': 2.5,\n",
              " 'estimator__loss': 'hinge',\n",
              " 'estimator__multi_class': 'crammer_singer',\n",
              " 'estimator__penalty': 'l1'}"
            ]
          },
          "metadata": {},
          "execution_count": 64
        }
      ]
    },
    {
      "cell_type": "code",
      "source": [
        "clf.best_score_"
      ],
      "metadata": {
        "colab": {
          "base_uri": "https://localhost:8080/"
        },
        "id": "LzjrVelj2UkH",
        "outputId": "ed1b2252-150b-4e0c-b732-3ef0a8e825b7"
      },
      "execution_count": null,
      "outputs": [
        {
          "output_type": "execute_result",
          "data": {
            "text/plain": [
              "0.337683615819209"
            ]
          },
          "metadata": {},
          "execution_count": 65
        }
      ]
    },
    {
      "cell_type": "code",
      "source": [
        "pkl.dump(clf, open('/content/drive/MyDrive/libros/model_libros_final.pkl', 'wb'))"
      ],
      "metadata": {
        "id": "4D51b7L92U0m"
      },
      "execution_count": null,
      "outputs": []
    },
    {
      "cell_type": "code",
      "source": [
        "y_pred=clf.predict(x_test)\n",
        "j_score(y_test, y_pred)"
      ],
      "metadata": {
        "colab": {
          "base_uri": "https://localhost:8080/"
        },
        "id": "nEQqPqft2cD0",
        "outputId": "e13bc0a6-c993-4b05-a154-5cafbd3dfcb9"
      },
      "execution_count": null,
      "outputs": [
        {
          "output_type": "execute_result",
          "data": {
            "text/plain": [
              "52.477477477477485"
            ]
          },
          "metadata": {},
          "execution_count": 67
        }
      ]
    },
    {
      "cell_type": "code",
      "source": [
        "# En algunos casos clasifica solo uno de los géneros, en otros acierta todo y en otros no es capaz de realizar una clasificación en ninguno de los géneros.\n",
        "for i in range(len(y_test)):\n",
        "  print(\"predicción->\",y_pred[i], \"Real->\", y_test.iloc[i].tolist())"
      ],
      "metadata": {
        "colab": {
          "base_uri": "https://localhost:8080/"
        },
        "id": "1jFcZKvb2dku",
        "outputId": "c6698161-b45c-4833-fba2-c6a6f08e6502"
      },
      "execution_count": null,
      "outputs": [
        {
          "output_type": "stream",
          "name": "stdout",
          "text": [
            "predicción-> [0 1 0 0 0 0 0 0] Real-> [0, 1, 0, 0, 0, 1, 0, 0]\n",
            "predicción-> [0 0 0 0 0 0 0 0] Real-> [0, 1, 0, 0, 0, 0, 0, 0]\n",
            "predicción-> [0 0 0 0 0 0 1 0] Real-> [0, 0, 0, 0, 0, 0, 1, 0]\n",
            "predicción-> [0 0 0 1 0 0 0 0] Real-> [0, 0, 0, 1, 0, 0, 0, 0]\n",
            "predicción-> [0 0 0 0 0 0 0 0] Real-> [0, 0, 0, 0, 1, 0, 1, 0]\n",
            "predicción-> [0 1 0 0 1 0 0 0] Real-> [0, 1, 0, 0, 1, 0, 0, 0]\n",
            "predicción-> [0 0 0 0 0 0 0 1] Real-> [0, 0, 0, 0, 0, 0, 0, 1]\n",
            "predicción-> [0 0 0 0 0 0 0 0] Real-> [0, 0, 1, 0, 0, 1, 0, 0]\n",
            "predicción-> [1 0 0 0 0 0 0 0] Real-> [1, 0, 0, 0, 0, 0, 0, 0]\n",
            "predicción-> [1 0 0 1 0 0 0 0] Real-> [0, 0, 0, 1, 0, 0, 0, 0]\n",
            "predicción-> [1 0 0 0 0 0 0 0] Real-> [1, 0, 0, 0, 0, 0, 0, 0]\n",
            "predicción-> [0 0 0 0 0 0 0 0] Real-> [0, 0, 0, 0, 0, 0, 1, 0]\n",
            "predicción-> [0 0 0 0 0 0 0 0] Real-> [0, 0, 0, 0, 1, 0, 0, 0]\n",
            "predicción-> [0 0 0 0 0 0 0 0] Real-> [0, 0, 0, 0, 1, 0, 0, 0]\n",
            "predicción-> [0 0 0 0 1 0 0 0] Real-> [0, 0, 0, 1, 0, 0, 0, 0]\n",
            "predicción-> [0 0 0 0 1 0 0 0] Real-> [0, 0, 0, 1, 1, 0, 0, 0]\n",
            "predicción-> [0 0 0 0 1 0 1 0] Real-> [0, 1, 0, 0, 0, 0, 0, 0]\n",
            "predicción-> [0 1 0 0 0 0 0 0] Real-> [0, 1, 0, 0, 0, 0, 0, 0]\n",
            "predicción-> [0 1 0 0 0 0 0 0] Real-> [0, 0, 0, 0, 0, 1, 0, 0]\n",
            "predicción-> [1 0 0 0 0 1 0 0] Real-> [0, 0, 0, 0, 1, 0, 0, 0]\n",
            "predicción-> [0 1 0 0 1 0 0 0] Real-> [0, 1, 0, 0, 1, 0, 0, 0]\n",
            "predicción-> [0 0 0 0 0 0 1 0] Real-> [0, 0, 0, 0, 0, 0, 1, 0]\n",
            "predicción-> [0 0 0 0 0 1 0 0] Real-> [0, 0, 0, 0, 0, 1, 0, 0]\n",
            "predicción-> [0 0 1 0 0 0 0 1] Real-> [0, 0, 1, 0, 0, 0, 0, 1]\n",
            "predicción-> [0 1 0 0 1 1 0 0] Real-> [0, 1, 0, 0, 1, 1, 0, 0]\n",
            "predicción-> [0 0 0 0 0 0 0 0] Real-> [0, 0, 0, 1, 0, 0, 0, 0]\n",
            "predicción-> [0 1 0 0 0 1 0 0] Real-> [0, 1, 0, 0, 0, 1, 0, 0]\n",
            "predicción-> [1 0 0 1 0 0 0 0] Real-> [1, 0, 0, 1, 0, 0, 0, 0]\n",
            "predicción-> [0 0 1 0 0 0 0 0] Real-> [0, 0, 1, 0, 0, 0, 0, 1]\n",
            "predicción-> [0 1 0 0 0 1 0 0] Real-> [0, 1, 0, 0, 0, 0, 0, 0]\n",
            "predicción-> [0 0 0 0 1 0 1 0] Real-> [0, 0, 0, 0, 1, 0, 1, 0]\n",
            "predicción-> [0 0 1 0 0 0 0 0] Real-> [0, 0, 1, 0, 0, 0, 0, 0]\n",
            "predicción-> [0 0 0 0 0 0 0 0] Real-> [0, 0, 0, 1, 0, 1, 0, 0]\n",
            "predicción-> [0 1 0 0 0 1 0 0] Real-> [0, 0, 0, 0, 1, 1, 0, 0]\n",
            "predicción-> [0 0 0 0 0 0 0 0] Real-> [0, 0, 0, 0, 1, 0, 1, 0]\n",
            "predicción-> [0 0 0 0 1 0 0 0] Real-> [0, 0, 0, 1, 1, 0, 0, 0]\n",
            "predicción-> [0 0 0 0 0 0 0 0] Real-> [0, 0, 0, 0, 1, 0, 1, 0]\n",
            "predicción-> [0 0 0 1 0 0 0 0] Real-> [0, 0, 0, 1, 0, 0, 0, 0]\n",
            "predicción-> [0 1 0 0 0 1 0 0] Real-> [0, 1, 0, 0, 0, 1, 0, 0]\n",
            "predicción-> [0 0 0 1 0 0 0 0] Real-> [0, 0, 0, 1, 0, 0, 0, 0]\n",
            "predicción-> [0 0 1 0 0 0 0 0] Real-> [0, 0, 1, 0, 0, 0, 0, 0]\n",
            "predicción-> [0 0 1 0 0 0 0 0] Real-> [0, 0, 1, 0, 0, 0, 0, 0]\n",
            "predicción-> [0 0 0 0 1 0 0 0] Real-> [0, 0, 0, 1, 0, 0, 0, 0]\n",
            "predicción-> [0 0 1 0 0 0 0 0] Real-> [0, 0, 1, 0, 0, 0, 0, 0]\n",
            "predicción-> [0 0 1 0 0 0 0 0] Real-> [0, 0, 1, 0, 0, 0, 0, 0]\n",
            "predicción-> [0 0 0 0 0 0 0 0] Real-> [0, 0, 0, 0, 1, 0, 1, 0]\n",
            "predicción-> [0 0 0 0 0 0 0 0] Real-> [0, 0, 0, 1, 0, 0, 0, 0]\n",
            "predicción-> [0 0 0 0 0 0 0 0] Real-> [0, 0, 0, 0, 0, 0, 0, 1]\n",
            "predicción-> [0 0 0 0 0 0 0 1] Real-> [0, 0, 1, 0, 0, 1, 0, 1]\n",
            "predicción-> [0 0 1 0 0 0 0 0] Real-> [0, 0, 1, 0, 0, 0, 0, 0]\n",
            "predicción-> [0 0 0 0 0 0 0 0] Real-> [1, 0, 0, 0, 0, 0, 0, 0]\n",
            "predicción-> [0 0 0 1 0 0 0 0] Real-> [0, 0, 0, 1, 0, 0, 0, 0]\n",
            "predicción-> [0 0 0 0 0 0 0 1] Real-> [0, 0, 0, 0, 0, 0, 0, 1]\n",
            "predicción-> [0 0 0 0 0 0 0 0] Real-> [0, 0, 0, 0, 0, 1, 0, 0]\n",
            "predicción-> [1 0 0 0 0 0 0 0] Real-> [1, 0, 0, 0, 0, 0, 0, 0]\n",
            "predicción-> [0 0 0 0 0 0 0 0] Real-> [0, 0, 0, 0, 1, 0, 1, 0]\n",
            "predicción-> [1 0 0 0 0 0 0 0] Real-> [1, 0, 0, 0, 0, 0, 0, 0]\n",
            "predicción-> [0 0 1 0 0 0 0 0] Real-> [0, 0, 1, 0, 0, 0, 0, 0]\n",
            "predicción-> [1 0 0 0 0 0 0 0] Real-> [1, 0, 0, 0, 0, 0, 0, 0]\n",
            "predicción-> [0 0 0 0 1 1 0 0] Real-> [0, 0, 0, 0, 1, 0, 0, 0]\n",
            "predicción-> [0 0 0 0 0 0 0 0] Real-> [0, 0, 0, 0, 0, 1, 0, 0]\n",
            "predicción-> [1 0 0 0 0 0 0 0] Real-> [1, 0, 0, 0, 0, 0, 0, 0]\n",
            "predicción-> [0 0 0 0 0 0 0 0] Real-> [1, 0, 1, 0, 0, 0, 0, 0]\n",
            "predicción-> [0 0 0 0 0 0 0 0] Real-> [0, 0, 0, 0, 1, 0, 0, 0]\n",
            "predicción-> [0 1 0 0 0 0 0 1] Real-> [0, 0, 0, 0, 0, 1, 0, 0]\n",
            "predicción-> [0 0 0 0 0 0 0 0] Real-> [0, 0, 0, 0, 1, 0, 0, 0]\n",
            "predicción-> [0 0 1 0 1 0 0 0] Real-> [0, 0, 1, 1, 0, 0, 0, 0]\n",
            "predicción-> [0 1 0 0 0 0 0 0] Real-> [0, 0, 0, 0, 1, 0, 0, 0]\n",
            "predicción-> [0 0 1 0 0 0 0 1] Real-> [0, 0, 0, 0, 0, 0, 0, 1]\n",
            "predicción-> [0 1 0 1 0 0 0 0] Real-> [0, 1, 0, 1, 0, 0, 0, 0]\n",
            "predicción-> [1 0 0 0 0 0 0 0] Real-> [1, 0, 0, 1, 0, 0, 0, 0]\n",
            "predicción-> [0 0 0 0 1 0 0 0] Real-> [0, 0, 0, 0, 0, 0, 1, 0]\n",
            "predicción-> [0 0 1 0 0 0 0 0] Real-> [0, 0, 1, 0, 0, 0, 0, 0]\n",
            "predicción-> [0 0 0 0 1 0 1 0] Real-> [0, 0, 0, 1, 1, 0, 0, 0]\n"
          ]
        }
      ]
    },
    {
      "cell_type": "markdown",
      "source": [
        "# Funcionamiento del modelo"
      ],
      "metadata": {
        "id": "hZ-d2Q3SHrsM"
      }
    },
    {
      "cell_type": "code",
      "source": [
        "from pickleshare import pickle\n",
        "with open('/content/drive/MyDrive/libros/model_libros_final.pkl', \"rb\") as file:\n",
        "  modelo=pickle.load(file)"
      ],
      "metadata": {
        "id": "-ES47vF6F0_l"
      },
      "execution_count": null,
      "outputs": []
    },
    {
      "cell_type": "code",
      "source": [
        "def get_clean(x):\n",
        "    x = str(x).lower().replace('\\\\', ' ').replace('\\r\\n', ' '  )\n",
        "    x = kgp.cont_exp(x)\n",
        "    x = kgp.remove_emails(x)\n",
        "    x = kgp.remove_urls(x)\n",
        "    x = kgp.remove_html_tags(x)\n",
        "    x = kgp.remove_accented_chars(x)\n",
        "    x = kgp.remove_special_chars(x)\n",
        "    x = kgp.remove_dups_char(x)\n",
        "\n",
        "\n",
        "    return x"
      ],
      "metadata": {
        "id": "o941DZh5HqkC"
      },
      "execution_count": null,
      "outputs": []
    },
    {
      "cell_type": "code",
      "source": [
        "def clasificador_libros(url, model):\n",
        "  response=requests.get(url)\n",
        "  texto=response.text\n",
        "  x=get_clean(texto)\n",
        "  x= \" \".join([t for t in x.split() if t not in stopwords])\n",
        "  x=pd.Series([x])\n",
        "  x_tfidf=tfidf.transform(x)\n",
        "  x_tfidf=x_tfidf.toarray()\n",
        "  x_pca=pca_var.transform(x_tfidf)\n",
        "  prediccion= model.predict(x_pca)\n",
        "  clasificador=[]\n",
        "  if prediccion[0][0]==1:\n",
        "    clasificador.append(\"humor\")\n",
        "  if prediccion[0][1]==1:\n",
        "    clasificador.append(\"amor\")\n",
        "  if prediccion[0][2]==1:\n",
        "    clasificador.append(\"ciencia ficción\")\n",
        "  if prediccion[0][3]==1:\n",
        "    clasificador.append(\"aventura\")\n",
        "  if prediccion[0][4]==1:\n",
        "    clasificador.append(\"histórica\")\n",
        "  if prediccion[0][5]==1:\n",
        "    clasificador.append(\"psicológica\")\n",
        "  if prediccion[0][6]==1:\n",
        "    clasificador.append(\"guerra\")\n",
        "  if prediccion[0][7]==1:\n",
        "    clasificador.append(\"terror\")\n",
        "  print(\"estamos ante una novela de ->\", clasificador)\n",
        "  return prediccion, clasificador"
      ],
      "metadata": {
        "id": "ArDAuYYHDkMv"
      },
      "execution_count": null,
      "outputs": []
    },
    {
      "cell_type": "code",
      "source": [
        "prediccion = clasificador_libros(\"https://www.gutenberg.org/ebooks/29954.txt.utf-8\", modelo)"
      ],
      "metadata": {
        "colab": {
          "base_uri": "https://localhost:8080/"
        },
        "id": "q1yK3xDEHRHe",
        "outputId": "ff8c5b4e-eb25-41e4-ee10-6bce658138ce"
      },
      "execution_count": null,
      "outputs": [
        {
          "output_type": "stream",
          "name": "stdout",
          "text": [
            "estamos ante una novela de -> ['ciencia ficción', 'terror']\n"
          ]
        }
      ]
    },
    {
      "cell_type": "code",
      "source": [],
      "metadata": {
        "id": "TliOZ2-DMMon"
      },
      "execution_count": null,
      "outputs": []
    }
  ]
}